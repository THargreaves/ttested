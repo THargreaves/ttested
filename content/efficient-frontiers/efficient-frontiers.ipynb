{
 "cells": [
  {
   "cell_type": "raw",
   "metadata": {},
   "source": [
    "---\n",
    "title: \"Efficient Calculation of Efficient Frontiers\"\n",
    "date: '2021-03-07'\n",
    "excerpt: \"The efficient frontier is a ubiquitous tool in quantative finance, yet it is often calculated using incredibly inefficient methods. Can we do better using a healthy helping of analysis and linear algebra.\"\n",
    "thumbnail: /gallery/thumbnails/efficient-frontiers.jpg\n",
    "toc: true\n",
    "categories:\n",
    "- [Mathematics, Analysis]\n",
    "tags:\n",
    "- linear-algebra\n",
    "- problem-solving\n",
    "- shiny\n",
    "---\n"
   ]
  },
  {
   "cell_type": "markdown",
   "metadata": {},
   "source": [
    "## The Setup"
   ]
  },
  {
   "cell_type": "markdown",
   "metadata": {},
   "source": [
    "Suppose we have a fixed amount of money that we have set aside for investment. We have narrowed down the equities we to a list of length $n$. From analysing historical data we know the vector of expected returns for each equity $v$ and the covariance matrix of returns $\\Sigma$..With that in mind, our goal is to choose the simplex vector $x$ (i.e. $0\\leq x_i \\leq 1$, $\\sum x_i = 1$) that maximises our expected return for any given risk tolerance $r=x^T \\Sigma x$."
   ]
  },
  {
   "cell_type": "markdown",
   "metadata": {},
   "source": [
    "If we were to find this $w$ for each $r>0$ and use this to calculate our expected return $e = v^T x$, we would end up with a curve known as the efficient frontier, which maximises our return for any given risk tolerance."
   ]
  },
  {
   "cell_type": "markdown",
   "metadata": {},
   "source": [
    "I became aware of the efficient frontier when talking to a collegue about a project he was working on. As an intermediate step, this involved calculating efficient frontiers, and I was surprised to see the approach that he was taking. It involved randomly generating a large number of simplex vectors, calculating their associated risk and expected return, before plotting these all on a graph as shown below."
   ]
  },
  {
   "cell_type": "raw",
   "metadata": {},
   "source": [
    "![Monte Carlo approach](/images/efficient-frontiers/monte-carlo.png)"
   ]
  },
  {
   "cell_type": "markdown",
   "metadata": {},
   "source": [
    "With enough simulations, you become able to see the outline of the efficient frontier, the curve marking the top boundary of the data points. This could then be turned into a curve by calculating the convex hull of the points, perhaps with some added smoothing."
   ]
  },
  {
   "cell_type": "markdown",
   "metadata": {},
   "source": [
    "This approach stood out to me for two reasons:\n",
    "- There was no way it would scale; as the number of equities increases, the space of portfolios to explore grows roughly exponentially. This means that the solution is not appropriate for real-world use where you would wish to consider a large number of equities.\n",
    "- The efficient frontiers generated looked an awful lot like a parabola—if this was the case then surely there was an analytic way of finding the equation of this curve."
   ]
  },
  {
   "cell_type": "raw",
   "metadata": {},
   "source": [
    "{% colorquote info %}\n",
    "Another popular approach for computing the effient frontier is using gradient descent. Under the right assumptions (the same as we will introduce later), the problem we are looking at is convex, and so we are guaranteed to find a local optimum, with convergence that is quadratically fast. This is still slower than the method we'll look at below so we won't discuss it further, but it is worth noting that it is also much more efficient than the random approach above.\n",
    "{% endcolorquote %}"
   ]
  },
  {
   "cell_type": "markdown",
   "metadata": {},
   "source": [
    "## An Analytic Approach"
   ]
  },
  {
   "cell_type": "markdown",
   "metadata": {},
   "source": [
    "As mentioned above, I was immediately suspicious that an analytic solution existed to the efficient frontier problem. It turned out that this was the case provided we introduced one key assumption: shorting is valid. I will not get into the financial definiton of short-selling now (though you can read about [here](https://www.investopedia.com/terms/s/shortselling.asp)). All we need to care about is that it corresponds to use removing the bounds on our portfolio weights $x_i$. We still however enforce that $\\sum x_i = 1$. Under this condition, our problem becauses a quadratic programming problem which can be solved using Lagrangian multipliers. Note, it is algebraically more elegant to solve the dual form of our problem (minimise risk for a given return), though the same solution is arrived at."
   ]
  },
  {
   "cell_type": "raw",
   "metadata": {},
   "source": [
    "{% colorquote success %}\n",
    "It is worth noting that although the introduction of shorting might make this analytic solution inappropriate for markets that do not allow it (more discussion on this later), the opposite flaw exists for the randomised approach we saw earlier in that it only works when shorting is forbidden, else the space of solutions to explore grows to intractable proportions.\n",
    "{% endcolorquote %}"
   ]
  },
  {
   "cell_type": "markdown",
   "metadata": {},
   "source": [
    "Our problem can be stated as\n",
    "\n",
    "$$\n",
    "\\begin{align}\n",
    "\\text{minimise} \\quad & w = x^T \\Sigma x \\\\\n",
    "\\text{s.t.} \\quad & v^T x = e \\\\\n",
    "& 1^T x = 1\n",
    "\\end{align}\n",
    "$$"
   ]
  },
  {
   "cell_type": "markdown",
   "metadata": {},
   "source": [
    "The corresponding Lagrangian is\n",
    "\n",
    "$$\\mathcal{L}(x, \\lambda, \\mu) = x^T \\Sigma x - \\lambda (v^T - e) - \\mu (1^Tx - 1)$$"
   ]
  },
  {
   "cell_type": "markdown",
   "metadata": {},
   "source": [
    "The derivative is therefore\n",
    "\n",
    "$$\\Delta_{x, \\lambda, \\mu}(x, \\lambda, \\mu) = \\begin{pmatrix}\n",
    " 2x^T\\Sigma - \\lambda v^T - \\mu 1^T \\\\ e - v^T x \\\\ 1 - 1^Tx\n",
    "\\end{pmatrix}$$"
   ]
  },
  {
   "cell_type": "markdown",
   "metadata": {},
   "source": [
    "Note, that this is a vector of length $n+2$. The usual way to proceed would be to set this equal to zero and solve the resulting system of equations through substitution. I tried this for a while and stuggled greatly. This is when I noticed a clever cheat which draws the straight out. This was to write the above system as a matrix equation in $x$, $\\lambda$ and $\\mu$."
   ]
  },
  {
   "cell_type": "markdown",
   "metadata": {},
   "source": [
    "$$\n",
    "\\begin{pmatrix}\n",
    "2\\Sigma & v & 1 \\\\\n",
    "v^T & 0 & 0 \\\\\n",
    "1^T & 0 & 0\n",
    "\\end{pmatrix}\n",
    "\\begin{pmatrix}\n",
    "x \\\\ \\lambda \\\\ \\mu\n",
    "\\end{pmatrix}\n",
    "=\n",
    "\\begin{pmatrix}\n",
    "0 \\\\ e \\\\ 1 \n",
    "\\end{pmatrix}\n",
    "$$"
   ]
  },
  {
   "cell_type": "markdown",
   "metadata": {},
   "source": [
    "It is easy to verify that the matrix on the left is invertible whenever $\\Sigma$ is postive definite (a reasonable assumption). To do this we use the following expression for the determinant of a block matrix."
   ]
  },
  {
   "cell_type": "markdown",
   "metadata": {},
   "source": [
    "$$\n",
    "\\text{det}\n",
    "\\begin{pmatrix}\n",
    "A & B \\\\\n",
    "C & D\n",
    "\\end{pmatrix}\n",
    "= \\text{det}(A) \\cdot \\text{det}(D - CA^{-1}B)\n",
    "$$"
   ]
  },
  {
   "cell_type": "markdown",
   "metadata": {},
   "source": [
    "Alternatively, you can solve for $x$ directly, to avoid the extra cost of solving the entire system."
   ]
  },
  {
   "cell_type": "markdown",
   "metadata": {},
   "source": [
    "## Try It For Yourself"
   ]
  },
  {
   "cell_type": "markdown",
   "metadata": {},
   "source": [
    "Since the matrix above is symmetric, postive definite, we can use efficient methods for solving the system. This gives us the optimal value of $x$ with incredible efficiency. To illustrate this difference, I have developed a Shiny dashboard to demo the initial and efficient approaches, benchmarking there runtimes to show how vastly superior this approach is. You can find the dashboard [here](https://timhargreaves.shinyapps.io/efficient-frontier-dashboard/)."
   ]
  },
  {
   "cell_type": "markdown",
   "metadata": {},
   "source": [
    "## Wrapping Up"
   ]
  },
  {
   "cell_type": "markdown",
   "metadata": {},
   "source": [
    "Two final thoughts..."
   ]
  },
  {
   "cell_type": "markdown",
   "metadata": {},
   "source": [
    "How much does the optimal portfolio under shorting differ from that without? Could we simply project the shorted solution onto the space of non-shorted solutions to obtain an approximately optimum solution. I hope to return to this problem at a later point, hoping to obtain either exact or probabilistic bounds."
   ]
  },
  {
   "cell_type": "markdown",
   "metadata": {},
   "source": [
    "After discussing this project with another collegue, it turns out that this solution is not completely original (though I believe my method of proof is novel and more elegant than other approaches). That said, it was original to me at the time of discovering this approach, which I think is good enough for an undergraduate."
   ]
  }
 ],
 "metadata": {
  "kernelspec": {
   "display_name": "Python 3",
   "language": "python",
   "name": "python3"
  },
  "language_info": {
   "codemirror_mode": {
    "name": "ipython",
    "version": 3
   },
   "file_extension": ".py",
   "mimetype": "text/x-python",
   "name": "python",
   "nbconvert_exporter": "python",
   "pygments_lexer": "ipython3",
   "version": "3.8.5"
  }
 },
 "nbformat": 4,
 "nbformat_minor": 4
}
