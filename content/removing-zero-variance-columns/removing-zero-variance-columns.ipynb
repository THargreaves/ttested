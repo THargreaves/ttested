{
 "cells": [
  {
   "cell_type": "raw",
   "metadata": {},
   "source": [
    "---\n",
    "title: \"Efficiently Removing Zero Variance Columns (An Introduction to Benchmarking)\"\n",
    "date: '2018-09-22'\n",
    "excerpt: \"There are many machine learning algorithms, such as principal component analysis, that will refuse to run when faced with columns of data that have zero variance. There are multiple ways to remove these in R, some much faster than others. In this post, I introduce some such methods and demonstrate how to use the `rbenchmark` package to evaluate their performance.\"\n",
    "thumbnail: /gallery/thumbnails/removing-zero-variance-columns.jpg\n",
    "toc: true\n",
    "categories:\n",
    "- [Data Science, Preprocessing]\n",
    "tags:\n",
    "- r\n",
    "- benchmarking\n",
    "- tutorial\n",
    "---\n"
   ]
  },
  {
   "cell_type": "raw",
   "metadata": {},
   "source": [
    "@noecho"
   ]
  },
  {
   "cell_type": "code",
   "execution_count": 1,
   "metadata": {},
   "outputs": [],
   "source": [
    "# set seed for reproducibility\n",
    "set.seed(1729)"
   ]
  },
  {
   "cell_type": "markdown",
   "metadata": {},
   "source": [
    "Packages required for this post:"
   ]
  },
  {
   "cell_type": "code",
   "execution_count": 2,
   "metadata": {},
   "outputs": [],
   "source": [
    "library(rbenchmark) # for benchmarking\n",
    "library(readr) # for reading CSVs"
   ]
  },
  {
   "cell_type": "markdown",
   "metadata": {},
   "source": [
    "## The Issue With Zero Variance Columns\n",
    "\n",
    "### Introduction\n",
    "\n",
    "Whenever you have a column in a data frame with only one distinct value, that column will have zero variance. In fact the reverse is true too; a zero variance column will always have exactly one distinct value. The proof of the former statement follows directly from the definition of variance. The proof of the reverse, however, requires some basic knowledge of  measure theory - specifically that if the expectation of a non-negative random variable is zero then the random variable is equal to zero.\n",
    "\n",
    "The existance of zero variance columns in a data frame may seem benign and in most cases that is true. There are however several algorithms that will be halted by their presence. An example of such is the use of principle component analysis (or PCA for short). If you are unfamiliar with this technique, I suggest reading through [this article](https://www.analyticsvidhya.com/blog/2016/03/practical-guide-principal-component-analysis-python/) by the Analytics Vidhya Content Team which includes a clear explanation of the concept as well as how it can be implemented in R and Python."
   ]
  },
  {
   "cell_type": "markdown",
   "metadata": {},
   "source": [
    "### The MNIST data set\n",
    "\n",
    "Let's suppose that we wish to perform PCA on the [MNIST](http://yann.lecun.com/exdb/mnist/) Handwritten Digit data set. We shall begin by importing a reduced version of the data set from a CSV file and having a quick look at its structure."
   ]
  },
  {
   "cell_type": "code",
   "execution_count": 6,
   "metadata": {},
   "outputs": [
    {
     "data": {
      "text/html": [
       "<ol class=list-inline>\n",
       "\t<li>1000</li>\n",
       "\t<li>785</li>\n",
       "</ol>\n"
      ],
      "text/latex": [
       "\\begin{enumerate*}\n",
       "\\item 1000\n",
       "\\item 785\n",
       "\\end{enumerate*}\n"
      ],
      "text/markdown": [
       "1. 1000\n",
       "2. 785\n",
       "\n",
       "\n"
      ],
      "text/plain": [
       "[1] 1000  785"
      ]
     },
     "metadata": {},
     "output_type": "display_data"
    }
   ],
   "source": [
    "# import data set\n",
    "mnist <- read_csv(\"mnist_reduced.csv\", \n",
    "                  col_names = c(\"Label\", paste0(\"P\", 1:28^2)),\n",
    "                  col_types = cols(.default = \"i\"))\n",
    "\n",
    "# get the dimensions of the data\n",
    "dim(mnist)"
   ]
  },
  {
   "cell_type": "code",
   "execution_count": 7,
   "metadata": {},
   "outputs": [
    {
     "data": {
      "text/html": [
       "<table>\n",
       "<caption>A tibble: 6 × 11</caption>\n",
       "<thead>\n",
       "\t<tr><th scope=col>Label</th><th scope=col>P333</th><th scope=col>P419</th><th scope=col>P185</th><th scope=col>P752</th><th scope=col>P18</th><th scope=col>P668</th><th scope=col>P510</th><th scope=col>P361</th><th scope=col>P218</th><th scope=col>P41</th></tr>\n",
       "\t<tr><th scope=col>&lt;int&gt;</th><th scope=col>&lt;int&gt;</th><th scope=col>&lt;int&gt;</th><th scope=col>&lt;int&gt;</th><th scope=col>&lt;int&gt;</th><th scope=col>&lt;int&gt;</th><th scope=col>&lt;int&gt;</th><th scope=col>&lt;int&gt;</th><th scope=col>&lt;int&gt;</th><th scope=col>&lt;int&gt;</th><th scope=col>&lt;int&gt;</th></tr>\n",
       "</thead>\n",
       "<tbody>\n",
       "\t<tr><td>5</td><td>0</td><td>0</td><td>253</td><td>0</td><td>0</td><td>0</td><td>0</td><td>0</td><td> 56</td><td>0</td></tr>\n",
       "\t<tr><td>0</td><td>0</td><td>0</td><td>252</td><td>0</td><td>0</td><td>0</td><td>0</td><td>0</td><td>122</td><td>0</td></tr>\n",
       "\t<tr><td>4</td><td>0</td><td>0</td><td>  0</td><td>0</td><td>0</td><td>0</td><td>0</td><td>0</td><td>210</td><td>0</td></tr>\n",
       "\t<tr><td>1</td><td>0</td><td>0</td><td>  0</td><td>0</td><td>0</td><td>0</td><td>0</td><td>0</td><td> 62</td><td>0</td></tr>\n",
       "\t<tr><td>9</td><td>0</td><td>0</td><td>  0</td><td>0</td><td>0</td><td>0</td><td>0</td><td>0</td><td>  0</td><td>0</td></tr>\n",
       "\t<tr><td>2</td><td>0</td><td>0</td><td>252</td><td>0</td><td>0</td><td>0</td><td>3</td><td>0</td><td>  0</td><td>0</td></tr>\n",
       "</tbody>\n",
       "</table>\n"
      ],
      "text/latex": [
       "A tibble: 6 × 11\n",
       "\\begin{tabular}{r|lllllllllll}\n",
       " Label & P333 & P419 & P185 & P752 & P18 & P668 & P510 & P361 & P218 & P41\\\\\n",
       " <int> & <int> & <int> & <int> & <int> & <int> & <int> & <int> & <int> & <int> & <int>\\\\\n",
       "\\hline\n",
       "\t 5 & 0 & 0 & 253 & 0 & 0 & 0 & 0 & 0 &  56 & 0\\\\\n",
       "\t 0 & 0 & 0 & 252 & 0 & 0 & 0 & 0 & 0 & 122 & 0\\\\\n",
       "\t 4 & 0 & 0 &   0 & 0 & 0 & 0 & 0 & 0 & 210 & 0\\\\\n",
       "\t 1 & 0 & 0 &   0 & 0 & 0 & 0 & 0 & 0 &  62 & 0\\\\\n",
       "\t 9 & 0 & 0 &   0 & 0 & 0 & 0 & 0 & 0 &   0 & 0\\\\\n",
       "\t 2 & 0 & 0 & 252 & 0 & 0 & 0 & 3 & 0 &   0 & 0\\\\\n",
       "\\end{tabular}\n"
      ],
      "text/markdown": [
       "\n",
       "A tibble: 6 × 11\n",
       "\n",
       "| Label &lt;int&gt; | P333 &lt;int&gt; | P419 &lt;int&gt; | P185 &lt;int&gt; | P752 &lt;int&gt; | P18 &lt;int&gt; | P668 &lt;int&gt; | P510 &lt;int&gt; | P361 &lt;int&gt; | P218 &lt;int&gt; | P41 &lt;int&gt; |\n",
       "|---|---|---|---|---|---|---|---|---|---|---|\n",
       "| 5 | 0 | 0 | 253 | 0 | 0 | 0 | 0 | 0 |  56 | 0 |\n",
       "| 0 | 0 | 0 | 252 | 0 | 0 | 0 | 0 | 0 | 122 | 0 |\n",
       "| 4 | 0 | 0 |   0 | 0 | 0 | 0 | 0 | 0 | 210 | 0 |\n",
       "| 1 | 0 | 0 |   0 | 0 | 0 | 0 | 0 | 0 |  62 | 0 |\n",
       "| 9 | 0 | 0 |   0 | 0 | 0 | 0 | 0 | 0 |   0 | 0 |\n",
       "| 2 | 0 | 0 | 252 | 0 | 0 | 0 | 3 | 0 |   0 | 0 |\n",
       "\n"
      ],
      "text/plain": [
       "  Label P333 P419 P185 P752 P18 P668 P510 P361 P218 P41\n",
       "1 5     0    0    253  0    0   0    0    0     56  0  \n",
       "2 0     0    0    252  0    0   0    0    0    122  0  \n",
       "3 4     0    0      0  0    0   0    0    0    210  0  \n",
       "4 1     0    0      0  0    0   0    0    0     62  0  \n",
       "5 9     0    0      0  0    0   0    0    0      0  0  \n",
       "6 2     0    0    252  0    0   0    3    0      0  0  "
      ]
     },
     "metadata": {},
     "output_type": "display_data"
    }
   ],
   "source": [
    "# look at a sample of the predictors\n",
    "head(mnist[, c(1, sample(1:785, 10))])"
   ]
  },
  {
   "cell_type": "markdown",
   "metadata": {},
   "source": [
    "As we can see, the data set is made up of 1000 observations each of which contains 784 pixel values each from 0 to 255. These come from a 28x28 grid representing a drawing of a numerical digit. The label for the digit is given in the first column. We can visualise what the data represents as such."
   ]
  },
  {
   "cell_type": "raw",
   "metadata": {},
   "source": [
    "@noecho"
   ]
  },
  {
   "cell_type": "raw",
   "metadata": {},
   "source": [
    "@caption=\"A sample of digits from the MNIST data set\""
   ]
  },
  {
   "cell_type": "code",
   "execution_count": 11,
   "metadata": {},
   "outputs": [
    {
     "data": {
      "image/png": "[encoded data removed]"
     },
     "metadata": {},
     "output_type": "display_data"
    }
   ],
   "source": [
    "options(repr.plot.width=8, \n",
    "        repr.plot.height=8,\n",
    "        jupyter.plot_mimetypes = \"image/png\")\n",
    "\n",
    "# choose 10 digits for each label\n",
    "samp <- sapply(0:9, function(x) sample(which(mnist$Label == x), 10))\n",
    "# form into a matrix\n",
    "pxlVals <- t(mnist[samp, -1])\n",
    "pxlVals.mtrx <- lapply(1:100, function(x) matrix(pxlVals[,x], ncol = 28))\n",
    "par(mfrow = c(10,10), mar = rep(.1, 4))\n",
    "                       \n",
    "for(i in 1:100){\n",
    "    for(j in 1:28) {\n",
    "    # restructure to use same coordinate system as image()\n",
    "    pxlVals.mtrx[[i]][j,] <- rev(pxlVals.mtrx[[i]][j,])\n",
    "  }\n",
    "    image(pxlVals.mtrx[[i]],col=grey.colors(225),axes=F)\n",
    "}"
   ]
  },
  {
   "cell_type": "markdown",
   "metadata": {},
   "source": [
    "The code used to produce Figure 1 is beyond the scope of this blog post. However, the full code used to produce this document can be found on my [Github](https://github.com/THargreaves)."
   ]
  },
  {
   "cell_type": "markdown",
   "metadata": {},
   "source": [
    "### An attempt at PCA\n",
    "\n",
    "Now that we have an understanding of what our data looks like, we can have a go at applying PCA to it. Luckily for us, base R comes with a built-in function for implementing PCA."
   ]
  },
  {
   "cell_type": "raw",
   "metadata": {},
   "source": [
    "{% codeblock lang:R %}\n",
    "mnist.pca <- prcomp(mnist[,-1], scale. = TRUE)\n",
    "{% endcodeblock %}"
   ]
  },
  {
   "cell_type": "markdown",
   "metadata": {},
   "source": [
    "If we run this, however, we will be faced with the following error message."
   ]
  },
  {
   "cell_type": "raw",
   "metadata": {},
   "source": [
    "@noecho"
   ]
  },
  {
   "cell_type": "code",
   "execution_count": 13,
   "metadata": {},
   "outputs": [
    {
     "name": "stderr",
     "output_type": "stream",
     "text": [
      "Error in prcomp.default(mnist[, -1], scale. = TRUE):\n",
      "  cannot rescale a constant/zero column to unit variance\n"
     ]
    }
   ],
   "source": [
    "# blog post will not compile if an actual error occurs so we have to sythesise one\n",
    "message(\"Error in prcomp.default(mnist[, -1], scale. = TRUE):\\n  cannot rescale a constant/zero column to unit variance\")"
   ]
  },
  {
   "cell_type": "markdown",
   "metadata": {},
   "source": [
    "The issue is clearly stated: we can't run PCA (or least with scaling) whilst our data set still has zero variance columns. We must remove them first. It would be reasonable to ask why we don't just run PCA without first scaling the data first. In this scenario you may in fact be able to get away with it as all of the predictors are on the same scale (0-255) although even in this case, rescaling may help overcome the biased weighting towards pixels in the centre of the grid. \n",
    "\n",
    "The importance of scaling becomes even more clear when we consider a different data set. For example, one where we are trying to predict the monetary value of a car by it's MPG and mileage. These predictors are going to be on vastly different scales; the former is almost certainly going to be in the double digits whereas the latter will most likely be 5 or more digits. If we were to preform PCA without scaling, the MPG will completely dominate the results as a unit increase in its value is going to explain far more variance than the same increase in the mileage. Removing scaling is clearly not a workable option in all cases.\n",
    "\n",
    "We are left with the only option of removing these troublesome columns."
   ]
  },
  {
   "cell_type": "markdown",
   "metadata": {},
   "source": [
    "# Removing Zero Variance Columns\n",
    "\n",
    "### Methods for removing zero variance columns\n",
    "\n",
    "Note that for the first and last of these methods, we assume that the data frame does not contain any `NA` values. This can easily be resolved, if that is the case, by adding `na.rm = TRUE` to the instances of the `var()`, `min()`, and `max()` functions. This will slightly reduce their efficiency. "
   ]
  },
  {
   "cell_type": "markdown",
   "metadata": {},
   "source": [
    "#### Method 1\n",
    "\n",
    "We can now look at various methods for removing zero variance columns using R. The first off which is the most simple, doing exactly what it says on the tin."
   ]
  },
  {
   "cell_type": "code",
   "execution_count": 14,
   "metadata": {},
   "outputs": [],
   "source": [
    "removeZeroVar1 <- function(df){\n",
    "  df[, sapply(df, var) != 0]\n",
    "}"
   ]
  },
  {
   "cell_type": "markdown",
   "metadata": {},
   "source": [
    "This simply finds which columns of the data frame have a variance of zero and then selects all columns but those to return. The issue with this function is that calculating the variance of many columns is rather computational expensive and so on large data sets this may take a long time to run (see benchmarking section for an exact comparison of efficiency). "
   ]
  },
  {
   "cell_type": "markdown",
   "metadata": {},
   "source": [
    "#### Method 2\n",
    "\n",
    "We can speed up this process by using the fact that any zero variance column will only contain a single distinct value. This leads us to our second method."
   ]
  },
  {
   "cell_type": "code",
   "execution_count": 15,
   "metadata": {},
   "outputs": [],
   "source": [
    "removeZeroVar2 <- function(df){\n",
    "  df[, sapply(df, function(x) length(unique(x)) > 1)]\n",
    "}"
   ]
  },
  {
   "cell_type": "markdown",
   "metadata": {},
   "source": [
    "This function finds which columns have more than one distinct value and returns a data frame containing only them. Further advantages of this method are that it can run on non-numeric data types such as characters and handle `NA` values without any tweaks needed."
   ]
  },
  {
   "cell_type": "markdown",
   "metadata": {},
   "source": [
    "#### Method 3\n",
    "\n",
    "We can further improve on this method by, again, noting that a column has zero variance if and only if it is constant and hence its minimum and maximum values will be the same. This gives rise to our third method."
   ]
  },
  {
   "cell_type": "code",
   "execution_count": 16,
   "metadata": {},
   "outputs": [],
   "source": [
    "removeZeroVar3 <- function(df){\n",
    "  df[, !sapply(df, function(x) min(x) == max(x))]\n",
    "}"
   ]
  },
  {
   "cell_type": "markdown",
   "metadata": {},
   "source": [
    "### Comparing the efficency of our methods\n",
    "\n",
    "We now have three different solutions to our zero-variance-removal problem so we need a way of deciding which is the most efficient for use on large data sets. We can do this using [benchmarking](https://en.wikipedia.org/wiki/Benchmark_(computing)) which we can implement using the `rbenchmark` package. \n",
    "\n",
    "There are many other packages that can be used for benchmarking. The most popular of which is most likely Manuel Euguster's [benchmark](https://www.rdocumentation.org/packages/benchmark/versions/0.3-6) and another common choice is Lars Otto's [Benchmarking](https://www.rdocumentation.org/packages/Benchmarking/versions/0.27). [rbenchmark](https://www.rdocumentation.org/packages/rbenchmark/versions/1.0.0) is produced by Wacek Kusnierczyk and stands out in its simplicity - it is composed of a single function which is essentially just a wrapper for `system.time()`. It is more obscure than the other two packages mentioned but it's elegance makes it my favourite. \n",
    "\n",
    "Benchmarking with this package is performed using the `benchmark()` function. This accepts a series of unevaluated expressions as either named or unnamed arguments. It will then produce a data frame giving information about the efficiency of each of the captured expression, the columns of which can be choosen from a comprehensive set of options. The ordering of the rows in the resultant data frame can also be controlled, as well as the number of replications to be used for the test. For more information about this function, see the documentation linked above or use `?benchmark` after installing the package from CRAN.\n",
    "\n",
    "We use the benchmarking function as follows."
   ]
  },
  {
   "cell_type": "code",
   "execution_count": 20,
   "metadata": {},
   "outputs": [
    {
     "data": {
      "text/html": [
       "<table>\n",
       "<caption>A data.frame: 3 × 4</caption>\n",
       "<thead>\n",
       "\t<tr><th></th><th scope=col>test</th><th scope=col>replications</th><th scope=col>elapsed</th><th scope=col>relative</th></tr>\n",
       "\t<tr><th></th><th scope=col>&lt;fct&gt;</th><th scope=col>&lt;int&gt;</th><th scope=col>&lt;dbl&gt;</th><th scope=col>&lt;dbl&gt;</th></tr>\n",
       "</thead>\n",
       "<tbody>\n",
       "\t<tr><th scope=row>3</th><td>Min-Max Method      </td><td>100</td><td>0.14</td><td>1.000</td></tr>\n",
       "\t<tr><th scope=row>1</th><td>Variance Method     </td><td>100</td><td>0.75</td><td>5.357</td></tr>\n",
       "\t<tr><th scope=row>2</th><td>Unique Values Method</td><td>100</td><td>1.00</td><td>7.143</td></tr>\n",
       "</tbody>\n",
       "</table>\n"
      ],
      "text/latex": [
       "A data.frame: 3 × 4\n",
       "\\begin{tabular}{r|llll}\n",
       "  & test & replications & elapsed & relative\\\\\n",
       "  & <fct> & <int> & <dbl> & <dbl>\\\\\n",
       "\\hline\n",
       "\t3 & Min-Max Method       & 100 & 0.14 & 1.000\\\\\n",
       "\t1 & Variance Method      & 100 & 0.75 & 5.357\\\\\n",
       "\t2 & Unique Values Method & 100 & 1.00 & 7.143\\\\\n",
       "\\end{tabular}\n"
      ],
      "text/markdown": [
       "\n",
       "A data.frame: 3 × 4\n",
       "\n",
       "| <!--/--> | test &lt;fct&gt; | replications &lt;int&gt; | elapsed &lt;dbl&gt; | relative &lt;dbl&gt; |\n",
       "|---|---|---|---|---|\n",
       "| 3 | Min-Max Method       | 100 | 0.14 | 1.000 |\n",
       "| 1 | Variance Method      | 100 | 0.75 | 5.357 |\n",
       "| 2 | Unique Values Method | 100 | 1.00 | 7.143 |\n",
       "\n"
      ],
      "text/plain": [
       "  test                 replications elapsed relative\n",
       "3 Min-Max Method       100          0.14    1.000   \n",
       "1 Variance Method      100          0.75    5.357   \n",
       "2 Unique Values Method 100          1.00    7.143   "
      ]
     },
     "metadata": {},
     "output_type": "display_data"
    }
   ],
   "source": [
    "benchmark(\n",
    "  'Variance Method' = removeZeroVar1(mnist),\n",
    "  'Unique Values Method' = removeZeroVar2(mnist),\n",
    "  'Min-Max Method' = removeZeroVar3(mnist),\n",
    "  columns = c(\"test\", \"replications\", \"elapsed\", \"relative\"), \n",
    "  order = \"elapsed\",\n",
    "  replications = 100\n",
    ")"
   ]
  },
  {
   "cell_type": "markdown",
   "metadata": {},
   "source": [
    "As we can see from the resulting table, the best method by far was the min-max method with the unique values and variance method being around 5 and 7 times slower respectively. When we next recieve an unexpected error message critiquing our data frames inclusion of zero variance columns, we'll now know what do!"
   ]
  }
 ],
 "metadata": {
  "kernelspec": {
   "display_name": "R",
   "language": "R",
   "name": "ir"
  },
  "language_info": {
   "codemirror_mode": "r",
   "file_extension": ".r",
   "mimetype": "text/x-r-source",
   "name": "R",
   "pygments_lexer": "r",
   "version": "3.6.0"
  }
 },
 "nbformat": 4,
 "nbformat_minor": 2
}
