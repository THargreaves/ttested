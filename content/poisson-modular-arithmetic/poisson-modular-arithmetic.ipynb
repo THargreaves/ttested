{
 "cells": [
  {
   "cell_type": "raw",
   "metadata": {},
   "source": [
    "---\n",
    "title: \"The Poisson Distribution Meets Modular Arithmetic\"\n",
    "date: '2023-04-02'\n",
    "excerpt: \"Inspired by a simple probability puzzle, I set out to determine the probability that a Poisson random variable is divisible by a given integer, before extending this result to calculate the distribution of the Poisson random variable modulo a divisor.\"\n",
    "thumbnail: /gallery/thumbnails/poisson-modular-arithmetic.png\n",
    "toc: true\n",
    "categories:\n",
    "- [Statistics, Probability]\n",
    "tags:\n",
    "- tutorial\n",
    "- probability\n",
    "- puzzle\n",
    "- problem-solving\n",
    "---\n"
   ]
  },
  {
   "attachments": {},
   "cell_type": "markdown",
   "metadata": {},
   "source": [
    "Recently, I've been working my way through Federick Mosteller's excellent book [Fifty Challenging Problems in Probability](https://books.google.co.uk/books?id=sQr5AAAAQBAJ). Although the name might be a bit of a misnomer, with few questions proving that demanding for anyone with a decent grasp of undergraduate probability (see [Probability and Stochastic Calculus Quant Interview Questions](https://books.google.co.uk/books/about/Probability_and_Stochastic_Calculus_Quan.html?id=bHxpzgEACAAJ) for a more testing problem collection), it's been a fun read and has provided me with a lot of inspiration for creating my own variants of the showcased problems."
   ]
  },
  {
   "attachments": {},
   "cell_type": "markdown",
   "metadata": {},
   "source": [
    "One particular question that I have playing with asks the reader to calculate the probability that a Poisson random variable $X \\sim \\text{Poisson}\\left(\\lambda\\right)$ is even. The solution follows almost immediately from definitions:\n",
    "\n",
    "$$\n",
    "\\begin{align}\n",
    "\\mathbb{P}\\left(X \\text{ is even}\\right) &= \\sum_{k=0}^{\\infty}\\frac{\\lambda^{2k}e^{-\\lambda}}{\\left(2k\\right)!} \\\\\n",
    "&=e^{-\\lambda} \\sum_{k=0}^{\\infty}\\frac{\\lambda^{2k}}{\\left(2k\\right)!} \\\\\n",
    "&= e^{-\\lambda}\\cosh\\left(\\lambda\\right) \\\\\n",
    "&= \\frac{1}{2}\\left(1 + e^{-2\\lambda}\\right),\n",
    "\\end{align}\n",
    "$$\n",
    "\n",
    "where we used the well-known Maclaurin expansion for $\\cosh(x)$ to reduce the infinite sum."
   ]
  },
  {
   "attachments": {},
   "cell_type": "markdown",
   "metadata": {},
   "source": [
    "Naturally, this led me to think about the generalisation of the problem: what is $\\mathbb{P}(X \\equiv 0 \\mod d)$ for any $d \\in \\mathbb{N}$? The rest of this blog post will be dedicated to answering this question, before providing some brief comments about how this result can be extended to any remainder."
   ]
  },
  {
   "attachments": {},
   "cell_type": "markdown",
   "metadata": {},
   "source": [
    "However, before we get to that, I would like to take a quick detour to look into the $d=2$ case in a bit more depth."
   ]
  },
  {
   "attachments": {},
   "cell_type": "markdown",
   "metadata": {},
   "source": [
    "### Tangent: Parity Preference"
   ]
  },
  {
   "attachments": {},
   "cell_type": "markdown",
   "metadata": {},
   "source": [
    "The result from above tells us that the probability that a Poisson random variable is even is given by $\\frac{1}{2}\\left(1 + e^{-2\\lambda}\\right)$. This expression is notable for the fact that it is always strictly greater than $\\frac{1}{2}$, meaning that the Poisson distribution has a preference for even numbers regardless of the value of $\\lambda$. \n",
    "\n",
    "I found this to be quite a surprising result and so have spent some time trying to build some intuition as to why this is true. The best explanation that I could come up with involves the characterisation of the Poisson distribution as the limit of a binomial distribution with $np_n \\to \\lambda$ (known as the [Law of Rare Events](https://en.wikipedia.org/wiki/Poisson_limit_theorem)). Using this result, it is sufficient to show that the binomial distribution has a preference for even numbers for $p < \\frac{1}{2}$ (for $p > \\frac{1}{2}$ the opposite will hold by the symmetry $X \\to n - X$).\n",
    "\n",
    "A nifty way to see this is to label the successes and failures of the underlying Bernoulli trials ($X_i$) as $+1$ and $-1$, respectively. It then follows that,\n",
    "\n",
    "$$\n",
    "\\begin{align}\n",
    "1 - 2 \\cdot \\mathbb{P}\\left(\\sum_{i=1}^n X_i \\text{ is even}\\right) &= \\mathbb{E}\\left(X_1 \\cdot \\ldots \\cdot X_n\\right) \\\\\n",
    "&= \\mathbb{E}\\left(X_1\\right) \\cdot \\ldots \\cdot \\mathbb{E}\\left(X_n\\right)  \\quad \\text{[independence]} \\\\\n",
    "&= (2p - 1)^n\n",
    "\\end{align}\n",
    "$$\n",
    "\n",
    "and so,\n",
    "\n",
    "$$\n",
    "\\mathbb{P}\\left(\\sum_{i=1}^n X_i \\text{ is even}\\right) = \\frac{1}{2}\\left(1 + (1 - 2p)^n\\right) > \\frac{1}{2}.\n",
    "$$\n",
    "\n",
    "Although this is a nice technique, it doesn't really provide any intuition. For this, the clearest explanation I came up with involved using induction.\n",
    "\n",
    "Let $P_n$ be the probability that a binomial random variable $X \\sim \\text{Binomial}\\left(n, p\\right)$ is even. Then, we have that,\n",
    "\n",
    "$$\n",
    "P_{n + 1} = p \\cdot (1 - P_n) + (1 - p) \\cdot P_n = P_n + p - 2 p P_n.\n",
    "$$\n",
    "\n",
    "If our inductive hypothesis is that $P_n > \\frac{1}{2}$, then we can write $P_n = \\frac{1}{2} + \\varepsilon$ for some $\\varepsilon > 0$. Likewise, we are working under the assumption that $p < \\frac{1}{2}$ so we write $p = \\frac{1}{2} - \\delta$ for some $\\delta > 0$. Substituting these expressions into the above equation, we get,\n",
    "\n",
    "$$\n",
    "P_{n + 1} = \\frac{1}{2} + \\varepsilon \\delta > \\frac{1}{2},\n",
    "$$\n",
    "\n",
    "That is, adding additional Bernoulli trials does not change the parity preference of the binomial distribution. Hence, taking $n$ to infinity, we see that the Poisson distribution has this same preference.\n",
    "\n",
    "I'm not particularly satisfied with this explanation, nor the need to rely on the Law of Rare Events. If anyone has any better ideas, please get in touch, or better yet, leave a comment at the bottom of this post."
   ]
  },
  {
   "attachments": {},
   "cell_type": "markdown",
   "metadata": {},
   "source": [
    "## Generalisation to Prime Multiples"
   ]
  },
  {
   "attachments": {},
   "cell_type": "markdown",
   "metadata": {},
   "source": [
    "Returning to our main task, to calculate $\\mathbb{P}(X \\equiv 0 \\mod d)$ for integral $d$ we are going to use a clever trick involving complex numbers commonly used in Olympiad-style problem-solving. Specifically, given an infinity series $f(x) = \\sum_{n=0}^{\\infty} a_n x^n$, we can write,\n",
    "\n",
    "$$\n",
    "\\sum_{n=0}^{\\infty} a_{dn} x^{dn} = \\frac{1}{p}\\sum_{k=0}^{d-1} f\\left(\\zeta^k x\\right),\n",
    "$$\n",
    "\n",
    "where $\\zeta = e^{2\\pi i / d}$ is a primitive $d$ th root of unity. This result is known as the Roots of Unity Filter and an excellent introductory application can be found in Grant Sanderson's video [Olympiad level counting](https://www.youtube.com/watch?v=bOXCLR3Wric)."
   ]
  },
  {
   "attachments": {},
   "cell_type": "markdown",
   "metadata": {},
   "source": [
    "For our particular use-case, the identity takes the form\n",
    "\n",
    "$$\n",
    "\\begin{align}\n",
    "\\mathbb{P}(X \\equiv 0 \\mod d) &= \\sum_{k=0}^{\\infty}\\frac{\\lambda^{dk}e^{-\\lambda}}{\\left(dk\\right)!} \\\\\n",
    "&= \\frac{e^{-\\lambda}}{d} \\sum_{k=0}^{d - 1} \\exp\\left(\\lambda \\zeta^k\\right) \\\\\n",
    "\\end{align}\n",
    "$$"
   ]
  },
  {
   "attachments": {},
   "cell_type": "markdown",
   "metadata": {},
   "source": [
    "This result can be verified algebraically, but to gain some intuition, consider expanding each exponential term of the sum as a power series and arranging the results in a table. For example, for $d = 3, \\lambda=1$ we have,\n",
    "\n",
    "$$\n",
    "\\begin{array}{c|ccccccc}\n",
    "& 0 & 1 & 2 & 3 & 4 & 5 & \\ldots \\\\\n",
    "\\hline\n",
    "\\exp(\\zeta^0) & 1 & 1 & 1 & 1 & 1 & 1 &  \\ldots\\\\\n",
    "\\exp(\\zeta^k) & 1 & \\zeta & \\zeta^2 & 1 & \\zeta & \\zeta^2 & \\ldots \\\\\n",
    "\\exp(\\zeta^{2k}) & 1 & \\zeta^2 & \\zeta^1 & 1 & \\zeta^2 & \\zeta^1 & \\ldots\\\\\n",
    "\\end{array}\n",
    "$$\n",
    "\n",
    "Recalling that the roots of unity sum to zero, we see that only the columns corresponding to multiples of $d$ have non-zero sums (with value $d$).\n",
    "\n",
    "From here, all we have to do is perform a bit of algebraic manipulation. For simplicity, I will focus on the case where $d$ is odd, with only a few details needing to be tweaked for the even case. We start by pulling out the $d = 0$ term,\n",
    "\n",
    "$$\n",
    "\\frac{1}{d} \\sum_{k=0}^{d - 1} \\exp\\left(\\lambda \\zeta^k\\right) = \\frac{1}{d} \\left[1 + e^{-\\lambda}\\sum_{k=1}^{d - 1} \\exp\\left(\\lambda \\zeta^k\\right)\\right],\n",
    "$$\n",
    "\n",
    "so we can focus our attention on $\\sum_{k=1}^{d - 1} \\exp\\left(\\lambda \\zeta^k\\right)$. To simplify this term, we write the root of unity in trigonometric form,\n",
    "\n",
    "$$\n",
    "\\begin{align}\n",
    "\\sum_{k=1}^{d - 1} \\exp\\left(\\lambda \\zeta^k\\right) &= \\sum_{k=1}^{d - 1} \\exp\\left(\\lambda \\left[\\cos\\left(\\frac{2\\pi k}{d}\\right) + i \\sin\\left(\\frac{2\\pi k}{d}\\right)\\right]\\right) \\\\\n",
    "&= \\sum_{k=1}^{d - 1} \\exp\\left(\\lambda\\cos\\left(\\frac{2\\pi k}{d}\\right)\\right) \\exp\\left(i \\sin\\left(\\frac{2\\pi k}{d}\\right)\\right).\n",
    "\\end{align}\n",
    "$$\n",
    "\n",
    "Noting that the term involving $\\sin$ is the polar form of a complex number we can write,\n",
    "\n",
    "$$\n",
    "\\begin{align}\n",
    "&\\sum_{k=1}^{d - 1} \\exp\\left(\\lambda\\cos\\left(\\frac{2\\pi k}{d}\\right)\\right) \\exp\\left(\\lambda\\sin\\left(\\frac{2\\pi k}{d}\\right)i\\right) = \\\\\n",
    "&\\sum_{k=1}^{d - 1} \\exp\\left(\\lambda\\cos\\left(\\frac{2\\pi k}{d}\\right)\\right) \\left[\\cos\\left(\\lambda\\sin\\left(\\frac{2\\pi k}{d}\\right)\\right) + i \\sin\\left(\\lambda\\sin\\left(\\frac{2\\pi k}{d}\\right)\\right)\\right] \\\\\n",
    "\\end{align}\n",
    "$$\n",
    "\n",
    "Finally, by considering the symmetry of the trigonometric functions, we obtain,\n",
    "\n",
    "$$\n",
    "\\sum_{k=1}^{d - 1} \\exp\\left(\\lambda \\zeta^k\\right)\n",
    "= \\sum_{k=1}^{\\frac{d - 1}{2}} \\exp\\left(\\lambda\\cos\\left(\\frac{2\\pi k}{d}\\right)\\right) \\cos\\left(\\lambda\\sin\\left(\\frac{2\\pi k}{d}\\right)\\right).\n",
    "$$\n",
    "\n",
    "Note that we are now summing over half the terms, since the other half are complex conjugates. Putting this all together, we have,\n",
    "\n",
    "$$\n",
    "\\mathbb{P}(X \\equiv 0 \\mod d) = \\frac{1}{d} \\left[1 + e^{-\\lambda}\\sum_{k=1}^{\\frac{d - 1}{2}} \\exp\\left(\\lambda\\cos\\left(\\frac{2\\pi k}{d}\\right)\\right) \\cos\\left(\\lambda\\sin\\left(\\frac{2\\pi k}{d}\\right)\\right)\\right].\n",
    "$$"
   ]
  },
  {
   "attachments": {},
   "cell_type": "markdown",
   "metadata": {},
   "source": [
    "As far as I can tell, this only has a closed form for the case $d = 3$, in which case we have,\n",
    "\n",
    "$$\n",
    "\\mathbb{P}(X \\equiv 0 \\mod 3) = \\frac{1 + 2 e^{-\\frac{3\\lambda}{2}}\\cos\\left(\\frac{\\sqrt{3}\\lambda}{2}\\right)}{3}.\n",
    "$$\n",
    "\n",
    "Either way, we have a reduced a sum over an infinite series to a sum over a finite series, which is much more tractable. If anyone has any clever ideas on how this can be reduced to a closed form, I would be interested to hear—please get in touch or leave a comment.\n",
    "\n",
    "To verify that this is correct, we can compare the results to the Monte Carlo simulation."
   ]
  },
  {
   "cell_type": "code",
   "execution_count": 46,
   "metadata": {},
   "outputs": [
    {
     "name": "stdout",
     "output_type": "stream",
     "text": [
      "TEST 1: mu = 2.2, d = 5\n",
      "Analytic Solution: 0.1584708275917\n",
      "Monte Carlo Approximation: 0.158391 (±0.00037)\n",
      "\n",
      "TEST 2: mu = 1.5, d = 3\n",
      "Analytic Sum Form: 0.35219456292556717\n",
      "Analytic Closed Form: 0.35219456292556717\n"
     ]
    }
   ],
   "source": [
    "import numpy as np\n",
    "from scipy.stats import poisson\n",
    "\n",
    "def poisson_multiple_odd(mu, d):\n",
    "    \"\"\"\n",
    "    Returns the probability that a Poisson random variable with mean mu is divisible by odd d.\n",
    "    \"\"\"\n",
    "    return (1 + 2 * sum(\n",
    "        np.exp(mu * (np.cos(2 * np.pi * k / d) - 1)) * np.cos(mu * np.sin(2 * np.pi * k / d))\n",
    "        for k in range(1, (d - 1) // 2 + 1)\n",
    "    )) / d\n",
    "\n",
    "def _poisson_multiple_approx(mu, d, r=0, reps=10**6):\n",
    "    xs = poisson.rvs(mu, size=reps)\n",
    "    n_multiple = sum(xs % d == r)\n",
    "    prop = n_multiple / reps\n",
    "    std = np.sqrt(prop * (1 - prop) / reps)\n",
    "    return prop, std\n",
    "\n",
    "np.random.seed(42)\n",
    "\n",
    "mu, d = 2.2, 5\n",
    "print(f\"TEST 1: mu = {mu}, d = {d}\")\n",
    "print(\"Analytic Solution:\", poisson_multiple_odd(mu, d))\n",
    "print(\"Monte Carlo Approximation:\", \"{} (±{:.5f})\".format(*_poisson_multiple_approx(mu, d)))\n",
    "\n",
    "def _poisson_multiple_three(mu):\n",
    "    return (1 + 2 * np.exp(-3/2 * mu) * np.cos(np.sqrt(3) * mu / 2)) / 3\n",
    "\n",
    "mu, d = 1.5, 3\n",
    "print(f\"\\nTEST 2: mu = {mu}, d = {d}\")\n",
    "print(\"Analytic Sum Form:\", poisson_multiple_odd(mu, d))\n",
    "print(\"Analytic Closed Form:\", _poisson_multiple_three(mu))"
   ]
  },
  {
   "attachments": {},
   "cell_type": "markdown",
   "metadata": {},
   "source": [
    "For even $d$ we simply have to take care over how we treat $\\zeta^\\frac{d}{2}$ since it has no complex conjugate in the sum to cancel with. I will leave this as an exercise for the reader."
   ]
  },
  {
   "attachments": {},
   "cell_type": "markdown",
   "metadata": {},
   "source": [
    "### General Remainders"
   ]
  },
  {
   "attachments": {},
   "cell_type": "markdown",
   "metadata": {},
   "source": [
    "It remains to consider how we can generalise our approach to compute $\\mathbb{P}(X \\equiv r \\mod d)$ for $r \\neq 0$. This change we need to make is fairly simple, so I'll leave the algebraic details for the reader to verify. The key idea is that by replacing\n",
    "\n",
    "$$\\frac{1}{d} \\sum_{k=0}^{d - 1} \\exp\\left(\\lambda \\zeta^k\\right) $$\n",
    "\n",
    "with \n",
    "\n",
    "$$\n",
    "\\frac{1}{d} \\sum_{k=0}^{d - 1} \\exp\\left(\\lambda \\zeta^k\\right) \\zeta^{-rk},\n",
    "$$\n",
    "\n",
    "we shift the column of ones in the table above so that it corresponds to the $(md + r)$ th columns for $m\\in\\mathbb{N}$. Following similar steps to the ones above, we obtain,\n",
    "\n",
    "$$\n",
    "\\mathbb{P}(X \\equiv r \\mod d) = \\sum_{k=1}^{\\frac{d - 1}{2}} \\exp\\left(\\lambda\\cos\\left(\\frac{2\\pi k}{d}\\right)\\right) \\cos\\left(\\lambda\\sin\\left(\\frac{2\\pi k}{d}\\right) - \\frac{2\\pi kr}{d}\\right).\n",
    "$$"
   ]
  },
  {
   "attachments": {},
   "cell_type": "markdown",
   "metadata": {},
   "source": [
    "Note that as $d \\to \\infty$ the additional term goes to zero and $X \\pmod d \\overset d \\to \\text{Unif}(\\{0, \\ldots d-1\\})$. Again, we can verify this result using Monte Carlo simulation."
   ]
  },
  {
   "cell_type": "code",
   "execution_count": 47,
   "metadata": {},
   "outputs": [
    {
     "name": "stdout",
     "output_type": "stream",
     "text": [
      "\n",
      "TEST 3: mu = 2.2, d = 5, r = 2\n",
      "Analytic Solution: 0.2736304014426759\n",
      "Monte Carlo Approximation: 0.273778 (±0.00045)\n",
      "\n",
      "TEST 4: Law of Total Probability\n",
      "Total Probability: 1.0\n"
     ]
    }
   ],
   "source": [
    "def poisson_multiple_odd_remainder(mu, d, r):\n",
    "    \"\"\"\n",
    "    Returns the probability that a Poisson random variable with mean mu is divisible by odd d.\n",
    "    \"\"\"\n",
    "    return (1 + 2 * sum(\n",
    "        np.exp(mu * (np.cos(2 * np.pi * k / d) - 1)) * np.cos(mu * np.sin(2 * np.pi * k / d) - 2 * np.pi * k * r / d)\n",
    "        for k in range(1, (d - 1) // 2 + 1)\n",
    "    )) / d\n",
    "\n",
    "np.random.seed(42)\n",
    "\n",
    "mu, d, r = 2.2, 5, 2\n",
    "print(f\"\\nTEST 3: mu = {mu}, d = {d}, r = {r}\")\n",
    "print(\"Analytic Solution:\", poisson_multiple_odd_remainder(mu, d, r))\n",
    "print(\"Monte Carlo Approximation:\", \"{} (±{:.5f})\".format(*_poisson_multiple_approx(mu, d, r)))\n",
    "\n",
    "print(f\"\\nTEST 4: Law of Total Probability\")\n",
    "print(\"Total Probability:\", sum(poisson_multiple_odd_remainder(mu, d, r) for r in range(d)))"
   ]
  }
 ],
 "metadata": {
  "kernelspec": {
   "display_name": "base",
   "language": "python",
   "name": "python3"
  },
  "language_info": {
   "codemirror_mode": {
    "name": "ipython",
    "version": 3
   },
   "file_extension": ".py",
   "mimetype": "text/x-python",
   "name": "python",
   "nbconvert_exporter": "python",
   "pygments_lexer": "ipython3",
   "version": "3.9.7"
  },
  "vscode": {
   "interpreter": {
    "hash": "c6e4e9f98eb68ad3b7c296f83d20e6de614cb42e90992a65aa266555a3137d0d"
   }
  }
 },
 "nbformat": 4,
 "nbformat_minor": 2
}
