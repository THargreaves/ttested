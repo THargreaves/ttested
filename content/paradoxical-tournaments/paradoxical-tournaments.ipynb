{
 "cells": [
  {
   "cell_type": "raw",
   "metadata": {},
   "source": [
    "---\n",
    "title: \"Paradoxical Tournaments\"\n",
    "date: '2019-08-23'\n",
    "excerpt: \"Deciding the winner of a round-robin tournament is no simple task. The most naïve approach can easily be faltered by the existence of $k$-paradoxical tournaments. But what are these tournaments and what do we know about them? There is surprisingly little discussion on the topic and so, in this post, I plan to collate various pieces of knowledge on the subject into one succinct guide.\"\n",
    "thumbnail: /gallery/thumbnails/paradoxical-tournaments.png\n",
    "toc: true\n",
    "categories:\n",
    "- [Mathematics, Combinatorics]\n",
    "tags:\n",
    "- graph-theory\n",
    "- probabilistic-method\n",
    "- no-coding\n",
    "- lesson\n",
    "---\n"
   ]
  },
  {
   "cell_type": "raw",
   "metadata": {},
   "source": [
    "{% colorquote info %}\n",
    "All graphs in this post are drawn using the R `igraph` package. The original code can be found on the [GitHub repository](https://github.com/THargreaves/ttested) for this site.\n",
    "{% endcolorquote %}"
   ]
  },
  {
   "cell_type": "markdown",
   "metadata": {},
   "source": [
    "## A Paradoxical Problem"
   ]
  },
  {
   "cell_type": "markdown",
   "metadata": {},
   "source": [
    "Suppose that you are organising a tournament in which $n$ each take turns to play one another exactly once. This is known as a round robin tournament. We can represent this visually using a complete oriented graph on $n$ vertices where a directed edge from vertex $v$ to $w$ means that player $v$ won the game against $w$. \n",
    "\n",
    "We should probably roughly define the terms that we just used. A complete graph on $n$ vertices is one where there is an edge between every distinct pair of vertices. Further, an oriented graph is a directed graph in which only one of the directed edges $(x,y)$ or $(y,x)$ appear in the edge set. Hence a complete oriented graph is a graph in which every distinct vertex pair has exactly one directed edge between them.\n",
    "\n",
    "The important thing is that for any tournament, we can find a graphical representation in the style of the following."
   ]
  },
  {
   "cell_type": "raw",
   "metadata": {},
   "source": [
    "@noecho"
   ]
  },
  {
   "cell_type": "raw",
   "metadata": {},
   "source": [
    "@caption=\"A graph corresponding to a tournament where player 0 beats both player 1 and 2, player 1 beats player 2, and player 3 beats everyone they played.\""
   ]
  },
  {
   "cell_type": "code",
   "execution_count": 2,
   "metadata": {},
   "outputs": [
    {
     "data": {
      "image/svg+xml": [
       "<?xml version=\"1.0\" encoding=\"UTF-8\"?>\n",
       "<svg xmlns=\"http://www.w3.org/2000/svg\" xmlns:xlink=\"http://www.w3.org/1999/xlink\" width=\"432pt\" height=\"432pt\" viewBox=\"0 0 432 432\" version=\"1.1\">\n",
       "<defs>\n",
       "<g>\n",
       "<symbol overflow=\"visible\" id=\"glyph0-0\">\n",
       "<path style=\"stroke:none;\" d=\"M 3.429688 -8.984375 C 4.292969 -8.980469 4.972656 -8.671875 5.460938 -8.054688 C 6.042969 -7.320313 6.332031 -6.105469 6.335938 -4.414063 C 6.332031 -2.71875 6.039063 -1.503906 5.457031 -0.761719 C 4.96875 -0.152344 4.292969 0.152344 3.429688 0.152344 C 2.554688 0.152344 1.855469 -0.179688 1.324219 -0.851563 C 0.789063 -1.515625 0.519531 -2.710938 0.523438 -4.429688 C 0.519531 -6.113281 0.8125 -7.324219 1.402344 -8.070313 C 1.882813 -8.675781 2.558594 -8.980469 3.429688 -8.984375 Z M 3.429688 -7.5625 C 3.21875 -7.558594 3.035156 -7.492188 2.871094 -7.363281 C 2.707031 -7.226563 2.582031 -6.988281 2.496094 -6.652344 C 2.378906 -6.207031 2.320313 -5.460938 2.320313 -4.414063 C 2.320313 -3.359375 2.371094 -2.640625 2.476563 -2.25 C 2.582031 -1.855469 2.714844 -1.59375 2.875 -1.464844 C 3.035156 -1.332031 3.21875 -1.265625 3.429688 -1.269531 C 3.632813 -1.265625 3.820313 -1.332031 3.984375 -1.46875 C 4.148438 -1.597656 4.273438 -1.835938 4.363281 -2.179688 C 4.476563 -2.617188 4.535156 -3.359375 4.539063 -4.414063 C 4.535156 -5.460938 4.480469 -6.183594 4.378906 -6.574219 C 4.269531 -6.964844 4.136719 -7.226563 3.980469 -7.363281 C 3.816406 -7.492188 3.632813 -7.558594 3.429688 -7.5625 Z M 3.429688 -7.5625 \"/>\n",
       "</symbol>\n",
       "<symbol overflow=\"visible\" id=\"glyph0-1\">\n",
       "<path style=\"stroke:none;\" d=\"M 4.917969 0 L 3.203125 0 L 3.203125 -6.464844 C 2.574219 -5.875 1.835938 -5.441406 0.988281 -5.164063 L 0.988281 -6.71875 C 1.433594 -6.863281 1.917969 -7.140625 2.445313 -7.554688 C 2.96875 -7.960938 3.332031 -8.4375 3.527344 -8.984375 L 4.917969 -8.984375 Z M 4.917969 0 \"/>\n",
       "</symbol>\n",
       "<symbol overflow=\"visible\" id=\"glyph0-2\">\n",
       "<path style=\"stroke:none;\" d=\"M 6.324219 -1.59375 L 6.324219 0 L 0.3125 0 C 0.375 -0.601563 0.570313 -1.171875 0.898438 -1.710938 C 1.21875 -2.25 1.863281 -2.964844 2.824219 -3.859375 C 3.597656 -4.574219 4.070313 -5.0625 4.25 -5.320313 C 4.480469 -5.671875 4.597656 -6.019531 4.601563 -6.371094 C 4.597656 -6.75 4.496094 -7.046875 4.292969 -7.253906 C 4.085938 -7.457031 3.800781 -7.558594 3.441406 -7.5625 C 3.082031 -7.558594 2.796875 -7.449219 2.585938 -7.238281 C 2.371094 -7.019531 2.25 -6.664063 2.222656 -6.164063 L 0.511719 -6.335938 C 0.609375 -7.273438 0.929688 -7.953125 1.46875 -8.367188 C 2.003906 -8.777344 2.675781 -8.980469 3.484375 -8.984375 C 4.363281 -8.980469 5.058594 -8.742188 5.566406 -8.269531 C 6.070313 -7.789063 6.320313 -7.199219 6.324219 -6.492188 C 6.320313 -6.089844 6.25 -5.707031 6.105469 -5.34375 C 5.960938 -4.976563 5.730469 -4.59375 5.421875 -4.199219 C 5.210938 -3.929688 4.835938 -3.546875 4.296875 -3.054688 C 3.75 -2.554688 3.40625 -2.226563 3.265625 -2.066406 C 3.117188 -1.902344 3.003906 -1.746094 2.917969 -1.59375 Z M 6.324219 -1.59375 \"/>\n",
       "</symbol>\n",
       "<symbol overflow=\"visible\" id=\"glyph0-3\">\n",
       "<path style=\"stroke:none;\" d=\"M 0.46875 -2.375 L 2.128906 -2.574219 C 2.179688 -2.148438 2.324219 -1.828125 2.558594 -1.605469 C 2.789063 -1.378906 3.070313 -1.265625 3.398438 -1.269531 C 3.75 -1.265625 4.046875 -1.398438 4.292969 -1.671875 C 4.53125 -1.9375 4.652344 -2.300781 4.65625 -2.757813 C 4.652344 -3.1875 4.535156 -3.53125 4.308594 -3.785156 C 4.074219 -4.035156 3.792969 -4.160156 3.460938 -4.164063 C 3.238281 -4.160156 2.976563 -4.117188 2.671875 -4.035156 L 2.863281 -5.433594 C 3.324219 -5.417969 3.675781 -5.519531 3.921875 -5.734375 C 4.164063 -5.945313 4.289063 -6.230469 4.289063 -6.585938 C 4.289063 -6.886719 4.199219 -7.125 4.019531 -7.304688 C 3.839844 -7.480469 3.601563 -7.570313 3.308594 -7.574219 C 3.011719 -7.570313 2.761719 -7.46875 2.554688 -7.269531 C 2.347656 -7.0625 2.222656 -6.765625 2.179688 -6.378906 L 0.597656 -6.648438 C 0.707031 -7.183594 0.871094 -7.613281 1.09375 -7.941406 C 1.316406 -8.261719 1.625 -8.519531 2.023438 -8.707031 C 2.414063 -8.890625 2.859375 -8.980469 3.355469 -8.984375 C 4.195313 -8.980469 4.871094 -8.714844 5.382813 -8.179688 C 5.800781 -7.738281 6.011719 -7.238281 6.011719 -6.6875 C 6.011719 -5.898438 5.582031 -5.273438 4.722656 -4.808594 C 5.234375 -4.695313 5.644531 -4.449219 5.953125 -4.070313 C 6.257813 -3.683594 6.410156 -3.222656 6.414063 -2.6875 C 6.410156 -1.898438 6.125 -1.226563 5.554688 -0.675781 C 4.980469 -0.121094 4.265625 0.152344 3.410156 0.152344 C 2.597656 0.152344 1.925781 -0.078125 1.394531 -0.546875 C 0.863281 -1.007813 0.554688 -1.617188 0.46875 -2.375 Z M 0.46875 -2.375 \"/>\n",
       "</symbol>\n",
       "</g>\n",
       "<clipPath id=\"clip1\">\n",
       "  <path d=\"M 1.441406 1.441406 L 431.5625 1.441406 L 431.5625 431.5625 L 1.441406 431.5625 Z M 1.441406 1.441406 \"/>\n",
       "</clipPath>\n",
       "</defs>\n",
       "<g id=\"surface6\">\n",
       "<rect x=\"0\" y=\"0\" width=\"432\" height=\"432\" style=\"fill:rgb(100%,100%,100%);fill-opacity:1;stroke:none;\"/>\n",
       "<g clip-path=\"url(#clip1)\" clip-rule=\"nonzero\">\n",
       "<path style=\"fill:none;stroke-width:1;stroke-linecap:round;stroke-linejoin:round;stroke:rgb(0%,0%,0%);stroke-opacity:1;stroke-miterlimit:10;\" d=\"M 382.917969 202.3125 L 228.769531 48.164063 \"/>\n",
       "<path style=\"fill:none;stroke-width:1;stroke-linecap:round;stroke-linejoin:round;stroke:rgb(0%,0%,0%);stroke-opacity:1;stroke-miterlimit:10;\" d=\"M 377.25 216 L 53.453125 216 \"/>\n",
       "<path style=\"fill:none;stroke-width:1;stroke-linecap:round;stroke-linejoin:round;stroke:rgb(0%,0%,0%);stroke-opacity:1;stroke-miterlimit:10;\" d=\"M 202.3125 49.082031 L 48.164063 203.230469 \"/>\n",
       "<path style=\"fill:none;stroke-width:1;stroke-linecap:round;stroke-linejoin:round;stroke:rgb(0%,0%,0%);stroke-opacity:1;stroke-miterlimit:10;\" d=\"M 229.6875 382.917969 L 383.835938 228.769531 \"/>\n",
       "<path style=\"fill:none;stroke-width:1;stroke-linecap:round;stroke-linejoin:round;stroke:rgb(0%,0%,0%);stroke-opacity:1;stroke-miterlimit:10;\" d=\"M 216 377.25 L 216 53.453125 \"/>\n",
       "<path style=\"fill:none;stroke-width:1;stroke-linecap:round;stroke-linejoin:round;stroke:rgb(0%,0%,0%);stroke-opacity:1;stroke-miterlimit:10;\" d=\"M 202.3125 382.917969 L 48.164063 228.769531 \"/>\n",
       "<path style=\"fill-rule:nonzero;fill:rgb(0%,0%,0%);fill-opacity:1;stroke-width:1;stroke-linecap:round;stroke-linejoin:round;stroke:rgb(0%,0%,0%);stroke-opacity:1;stroke-miterlimit:10;\" d=\"M 240.722656 54.53125 L 239.648438 54.242188 L 238.519531 53.894531 L 237.308594 53.472656 L 235.988281 52.9375 L 234.496094 52.230469 L 232.671875 51.1875 L 228.816406 48.117188 L 228.726563 48.210938 L 231.792969 52.0625 L 232.835938 53.890625 L 233.542969 55.382813 L 234.078125 56.703125 L 234.503906 57.914063 L 234.847656 59.042969 L 235.136719 60.117188 Z M 240.722656 54.53125 \"/>\n",
       "<path style=\"fill-rule:nonzero;fill:rgb(0%,0%,0%);fill-opacity:1;stroke-width:1;stroke-linecap:round;stroke-linejoin:round;stroke:rgb(0%,0%,0%);stroke-opacity:1;stroke-miterlimit:10;\" d=\"M 66.40625 212.050781 L 65.445313 212.605469 L 64.402344 213.160156 L 63.246094 213.714844 L 61.933594 214.269531 L 60.378906 214.824219 L 58.351563 215.378906 L 53.453125 215.933594 L 53.453125 216.066406 L 58.351563 216.621094 L 60.378906 217.175781 L 61.933594 217.730469 L 63.246094 218.285156 L 64.402344 218.839844 L 65.445313 219.394531 L 66.40625 219.949219 Z M 66.40625 212.050781 \"/>\n",
       "<path style=\"fill-rule:nonzero;fill:rgb(0%,0%,0%);fill-opacity:1;stroke-width:1;stroke-linecap:round;stroke-linejoin:round;stroke:rgb(0%,0%,0%);stroke-opacity:1;stroke-miterlimit:10;\" d=\"M 54.53125 191.277344 L 54.242188 192.351563 L 53.894531 193.480469 L 53.472656 194.691406 L 52.9375 196.011719 L 52.230469 197.503906 L 51.1875 199.328125 L 48.117188 203.183594 L 48.210938 203.273438 L 52.0625 200.207031 L 53.890625 199.164063 L 55.382813 198.457031 L 56.703125 197.921875 L 57.914063 197.496094 L 59.042969 197.152344 L 60.117188 196.863281 Z M 54.53125 191.277344 \"/>\n",
       "<path style=\"fill-rule:nonzero;fill:rgb(0%,0%,0%);fill-opacity:1;stroke-width:1;stroke-linecap:round;stroke-linejoin:round;stroke:rgb(0%,0%,0%);stroke-opacity:1;stroke-miterlimit:10;\" d=\"M 377.46875 240.722656 L 377.757813 239.648438 L 378.105469 238.519531 L 378.527344 237.308594 L 379.0625 235.988281 L 379.769531 234.496094 L 380.8125 232.671875 L 383.882813 228.816406 L 383.789063 228.726563 L 379.9375 231.792969 L 378.109375 232.835938 L 376.617188 233.542969 L 375.296875 234.078125 L 374.085938 234.503906 L 372.957031 234.847656 L 371.882813 235.136719 Z M 377.46875 240.722656 \"/>\n",
       "<path style=\"fill-rule:nonzero;fill:rgb(0%,0%,0%);fill-opacity:1;stroke-width:1;stroke-linecap:round;stroke-linejoin:round;stroke:rgb(0%,0%,0%);stroke-opacity:1;stroke-miterlimit:10;\" d=\"M 219.949219 66.40625 L 219.394531 65.445313 L 218.839844 64.402344 L 218.285156 63.246094 L 217.730469 61.933594 L 217.175781 60.378906 L 216.621094 58.351563 L 216.066406 53.453125 L 215.933594 53.453125 L 215.378906 58.351563 L 214.824219 60.378906 L 214.269531 61.933594 L 213.714844 63.246094 L 213.160156 64.402344 L 212.605469 65.445313 L 212.050781 66.40625 Z M 219.949219 66.40625 \"/>\n",
       "<path style=\"fill-rule:nonzero;fill:rgb(0%,0%,0%);fill-opacity:1;stroke-width:1;stroke-linecap:round;stroke-linejoin:round;stroke:rgb(0%,0%,0%);stroke-opacity:1;stroke-miterlimit:10;\" d=\"M 60.117188 235.136719 L 59.042969 234.847656 L 57.914063 234.503906 L 56.703125 234.078125 L 55.382813 233.542969 L 53.890625 232.835938 L 52.0625 231.792969 L 48.210938 228.726563 L 48.117188 228.816406 L 51.1875 232.671875 L 52.230469 234.496094 L 52.9375 235.988281 L 53.472656 237.308594 L 53.894531 238.519531 L 54.242188 239.648438 L 54.53125 240.722656 Z M 60.117188 235.136719 \"/>\n",
       "<path style=\"fill-rule:nonzero;fill:rgb(100%,100%,100%);fill-opacity:1;stroke-width:1;stroke-linecap:round;stroke-linejoin:round;stroke:rgb(0%,0%,0%);stroke-opacity:1;stroke-miterlimit:10;\" d=\"M 415.167969 216 C 415.167969 226.25 406.855469 234.5625 396.605469 234.5625 C 386.355469 234.5625 378.046875 226.25 378.046875 216 C 378.046875 205.75 386.355469 197.4375 396.605469 197.4375 C 406.855469 197.4375 415.167969 205.75 415.167969 216 \"/>\n",
       "<path style=\"fill-rule:nonzero;fill:rgb(100%,100%,100%);fill-opacity:1;stroke-width:1;stroke-linecap:round;stroke-linejoin:round;stroke:rgb(0%,0%,0%);stroke-opacity:1;stroke-miterlimit:10;\" d=\"M 234.5625 35.394531 C 234.5625 45.644531 226.25 53.953125 216 53.953125 C 205.75 53.953125 197.4375 45.644531 197.4375 35.394531 C 197.4375 25.144531 205.75 16.832031 216 16.832031 C 226.25 16.832031 234.5625 25.144531 234.5625 35.394531 \"/>\n",
       "<path style=\"fill-rule:nonzero;fill:rgb(100%,100%,100%);fill-opacity:1;stroke-width:1;stroke-linecap:round;stroke-linejoin:round;stroke:rgb(0%,0%,0%);stroke-opacity:1;stroke-miterlimit:10;\" d=\"M 53.953125 216 C 53.953125 226.25 45.644531 234.5625 35.394531 234.5625 C 25.144531 234.5625 16.832031 226.25 16.832031 216 C 16.832031 205.75 25.144531 197.4375 35.394531 197.4375 C 45.644531 197.4375 53.953125 205.75 53.953125 216 \"/>\n",
       "<path style=\"fill-rule:nonzero;fill:rgb(100%,100%,100%);fill-opacity:1;stroke-width:1;stroke-linecap:round;stroke-linejoin:round;stroke:rgb(0%,0%,0%);stroke-opacity:1;stroke-miterlimit:10;\" d=\"M 234.5625 396.605469 C 234.5625 406.855469 226.25 415.167969 216 415.167969 C 205.75 415.167969 197.4375 406.855469 197.4375 396.605469 C 197.4375 386.355469 205.75 378.046875 216 378.046875 C 226.25 378.046875 234.5625 386.355469 234.5625 396.605469 \"/>\n",
       "</g>\n",
       "<g style=\"fill:rgb(0%,0%,0%);fill-opacity:1;\">\n",
       "  <use xlink:href=\"#glyph0-0\" x=\"393.128906\" y=\"220.414063\"/>\n",
       "</g>\n",
       "<g style=\"fill:rgb(0%,0%,0%);fill-opacity:1;\">\n",
       "  <use xlink:href=\"#glyph0-1\" x=\"212.523438\" y=\"39.886719\"/>\n",
       "</g>\n",
       "<g style=\"fill:rgb(0%,0%,0%);fill-opacity:1;\">\n",
       "  <use xlink:href=\"#glyph0-2\" x=\"31.917969\" y=\"220.492188\"/>\n",
       "</g>\n",
       "<g style=\"fill:rgb(0%,0%,0%);fill-opacity:1;\">\n",
       "  <use xlink:href=\"#glyph0-3\" x=\"212.523438\" y=\"401.023438\"/>\n",
       "</g>\n",
       "</g>\n",
       "</svg>\n"
      ]
     },
     "metadata": {
      "image/svg+xml": {
       "isolated": true
      }
     },
     "output_type": "display_data"
    }
   ],
   "source": [
    "options(repr.plot.width=6, \n",
    "        repr.plot.height=6,\n",
    "        jupyter.plot_mimetypes = \"image/svg+xml\")\n",
    "\n",
    "par(mar=rep(0, 4)+.1)\n",
    "\n",
    "suppressPackageStartupMessages(library(igraph))\n",
    "el <- matrix(\n",
    "    c(\n",
    "        1, 2,\n",
    "        1, 3,\n",
    "        2, 3,\n",
    "        4, 1,\n",
    "        4, 2,\n",
    "        4, 3\n",
    "    ),\n",
    "    nc = 2,\n",
    "    byrow = TRUE\n",
    ")\n",
    "g <- graph_from_edgelist(el, directed = TRUE)\n",
    "coords <- layout_in_circle(g, order = V(g))\n",
    "plot(g, layout = coords, \n",
    "     vertex.label = 0:3,\n",
    "     vertex.size = 20,\n",
    "     vertex.label.family = 'sans',\n",
    "     vertex.label.font = 2,\n",
    "     vertex.color = \"white\", \n",
    "     vertex.label.color = \"black\", \n",
    "     edge.color = \"black\")"
   ]
  },
  {
   "cell_type": "raw",
   "metadata": {},
   "source": [
    "{% colorquote info %}\n",
    "The term 'round robin' is an 18th century anglicisation of the French 'ruban rond' which literally translates as 'round ribbon'<sup>[[src]](https://www.bartleby.com/81/14554.html)</sup>. The original French term referred to the act of signing petitions in a circular order around a round ribbon, hence disguising the ringleaders. Its relation to tournaments came later into use at the closing of the 19th century<sup>[[src]](https://www.etymonline.com/word/round%20robin)</sup>.\n",
    "{% endcolorquote %}"
   ]
  },
  {
   "cell_type": "raw",
   "metadata": {},
   "source": [
    "{% colorquote warning %}\n",
    "We use zero indexing for our vertices as this makes it easier to represent the graphs algebraically.\n",
    "{% endcolorquote %}"
   ]
  },
  {
   "cell_type": "markdown",
   "metadata": {},
   "source": [
    "Given a tournament, we need a way to decide who the winner is. A naïve approach would be to look for a player who beats every other player and then crown them the victor. In the example above, this would be player 3. When this can be done, there is no denying that the selected champion is deserving; it is only possible for one player to beat everyone else since each pair of players only compete a single time, hence this player will have won the most games. The problem is, that this dominating player cannot always be found. In fact, it is not difficult at all to construct a counter-example. The smallest $n$ we need to do this is 3, as shown here."
   ]
  },
  {
   "cell_type": "raw",
   "metadata": {},
   "source": [
    "@noecho"
   ]
  },
  {
   "cell_type": "raw",
   "metadata": {},
   "source": [
    "@caption=\"A 3-player tournament with no clear victor\""
   ]
  },
  {
   "cell_type": "code",
   "execution_count": null,
   "metadata": {},
   "outputs": [],
   "source": [
    "options(repr.plot.width=6, \n",
    "        repr.plot.height=6,\n",
    "        jupyter.plot_mimetypes = \"image/svg+xml\")\n",
    "\n",
    "par(mar=rep(0, 4)+.1)\n",
    "\n",
    "el <- matrix(\n",
    "    c(\n",
    "        1, 2,\n",
    "        2, 3,\n",
    "        3, 1\n",
    "    ),\n",
    "    nc = 2,\n",
    "    byrow = TRUE\n",
    ")\n",
    "g <- graph_from_edgelist(el, directed = TRUE)\n",
    "coords <- layout_in_circle(g, order = V(g))\n",
    "plot(g, layout = coords, \n",
    "     vertex.size = 20,\n",
    "     vertex.label = 0:2,\n",
    "     vertex.label.family = 'sans',\n",
    "     vertex.label.font = 2,\n",
    "     vertex.color = \"white\", \n",
    "     vertex.label.color = \"black\", \n",
    "     edge.color = \"black\")"
   ]
  },
  {
   "cell_type": "markdown",
   "metadata": {},
   "source": [
    "The mathematical term for such a violating tournament is a *paradoxical tournament*."
   ]
  },
  {
   "cell_type": "markdown",
   "metadata": {},
   "source": [
    "### Generalisation"
   ]
  },
  {
   "cell_type": "markdown",
   "metadata": {},
   "source": [
    "Another way of thinking about this is that a paradoxical tournament satisfies the property that for every subset of 1 player (i.e. any player), there exists another player that beats every player in that subset (i.e. beats that player). This rewording leads us into thinking about how we can generalise the notion of a paradoxical tournament. We start by renaming a paradoxical tournament as a 1-paradoxical tournament, since the subsets we were considering above only had one player in each of them. \n",
    "\n",
    "We can then define a $k$-paradoxical tournament to be a tournament in which for every subset of $k$ players, we can find another player outside of that subset that beat every player in that subset."
   ]
  },
  {
   "cell_type": "markdown",
   "metadata": {},
   "source": [
    "### 2-paradoxical Tournaments"
   ]
  },
  {
   "cell_type": "markdown",
   "metadata": {},
   "source": [
    "For small tournaments, this notion is redundant. For any tournament with 6 or fewer players, it's impossible to have a 2-or-higher-paradoxical tournament as we will prove in a moment. When a seventh player joins, however, everything can start to fall apart and we can find our first 2-paradoxical tournament. Here is the graphical representation of an example that I came up with."
   ]
  },
  {
   "cell_type": "raw",
   "metadata": {},
   "source": [
    "@noecho"
   ]
  },
  {
   "cell_type": "raw",
   "metadata": {},
   "source": [
    "@caption=\"A 2-paradoxical tournament with seven players (the minimum possible)\""
   ]
  },
  {
   "cell_type": "code",
   "execution_count": null,
   "metadata": {},
   "outputs": [],
   "source": [
    "options(repr.plot.width=6, \n",
    "        repr.plot.height=6,\n",
    "        jupyter.plot_mimetypes = \"image/svg+xml\")\n",
    "\n",
    "par(mar=rep(0, 4)+.1)\n",
    "\n",
    "el <- matrix(\n",
    "    c(\n",
    "        1, 2,\n",
    "        2, 3,\n",
    "        3, 4,\n",
    "        4, 5,\n",
    "        5, 6,\n",
    "        6, 7,\n",
    "        7, 1,\n",
    "        1, 3,\n",
    "        2, 4,\n",
    "        3, 5,\n",
    "        4, 6,\n",
    "        5, 7,\n",
    "        6, 1,\n",
    "        7, 2,\n",
    "        1, 5,\n",
    "        2, 6,\n",
    "        3, 7,\n",
    "        4, 1,\n",
    "        5, 2,\n",
    "        6, 3,\n",
    "        7, 4\n",
    "    ),\n",
    "    nc = 2,\n",
    "    byrow = TRUE\n",
    ")\n",
    "g <- graph_from_edgelist(el, directed = TRUE)\n",
    "coords <- layout_in_circle(g, order = V(g))\n",
    "plot(g, layout = coords, \n",
    "     vertex.label = 0:6,\n",
    "     vertex.size = 20,\n",
    "     vertex.label.family = 'sans',\n",
    "     vertex.label.font = 2,\n",
    "     vertex.color = \"white\", \n",
    "     vertex.label.color = \"black\", \n",
    "     edge.color = \"black\")"
   ]
  },
  {
   "cell_type": "markdown",
   "metadata": {},
   "source": [
    "You can verify this for yourself. I'll look at a few cases now as an example. Let's start with the 2-subset (0, 1) — both these players were beaten by player 4. Likewise, consider the subset (2, 6) — we can see that player 5 is the common victor. Similar checks can be done for all subsets."
   ]
  },
  {
   "cell_type": "raw",
   "metadata": {},
   "source": [
    "{% colorquote success %}\n",
    "This also proves that there are 2-paradoxical tournaments of for any number of players greater than 7. Simply take the graph above and repeatedly add a new vertex that is beaten by all existing vertices until you attain the desired number of players.\n",
    "{% endcolorquote %}"
   ]
  },
  {
   "cell_type": "raw",
   "metadata": {},
   "source": [
    "{% colorquote info %}\n",
    "**Technical Note**\n",
    "\n",
    "There is a beautiful underlying structure to the graph above. The edge set is given by \n",
    "\n",
    "$$\\{(v, (v + d) \\textrm{ mod } 7):v \\in \\{0,\\ldots, 6\\}, d \\in \\{1, 2, 4\\}\\}$$\n",
    "\n",
    "Therefore the vertices beating a given vertex $v$ are\n",
    "\n",
    "$$\\{(v - d) \\textrm{ mod } 7:d \\in \\{1, 2, 4\\}\\}$$\n",
    "\n",
    "Following on from this, if we wish to find a vertex, $u$, beating both $v$ and $w$, we seek a value\n",
    "\n",
    "$$u \\in V \\cap W$$\n",
    "\n",
    "where\n",
    "\n",
    "$$V = \\{(v - d_v) \\textrm{ mod } 7:d_v \\in \\{1, 2, 4\\}\\}$$\n",
    "\n",
    "and \n",
    "\n",
    "$$W = \\{(w - d_w) \\textrm{ mod } 7:d_w \\in \\{1, 2, 4\\}\\}$$\n",
    "\n",
    "In other words, $u$ will be a solution to \n",
    "\n",
    "$$v - d_v = w - d_w \\quad (\\textrm{mod } 7) \\quad d_v, d_w \\in \\{1, 2, 4\\} $$\n",
    "\n",
    "That is\n",
    "\n",
    "$$d_v - d_w = v - w  \\quad (\\textrm{mod } 7) \\quad d_v, d_w \\in \\{1, 2, 4\\} $$\n",
    "\n",
    "But $(v-w) \\textrm{ mod } 7$ is just some integer between zero and six. It is therefore not hard to verify that this equation can be satisfied by choosing $d_v$ and $d_w$ wisely. For example, if $(v-w) \\textrm{ mod } 7 = 5$, we would choose $d_v = 2$ and $d_w = 4$. This is not a constructive proof but it does show that the above tournament is indeed 2-paradoxical.\n",
    "{% endcolorquote %}"
   ]
  },
  {
   "cell_type": "markdown",
   "metadata": {},
   "source": [
    "That's great! We know that we can find a 2-paradoxical tournament with seven players, but what about proving that this is the smallest such example. As can be the nature of many graph theory problems, proving lack of existence can be much tougher than finding a clever example. Never-the-less, here is the simplest proof I could come up with, aided by the following graphic."
   ]
  },
  {
   "cell_type": "raw",
   "metadata": {},
   "source": [
    "@noecho"
   ]
  },
  {
   "cell_type": "raw",
   "metadata": {},
   "source": [
    "@caption=\"A visual aid for the proof that no 6-player tournament can be 2-paradoxical\""
   ]
  },
  {
   "cell_type": "code",
   "execution_count": null,
   "metadata": {},
   "outputs": [],
   "source": [
    "options(repr.plot.width=6, \n",
    "        repr.plot.height=9,\n",
    "        jupyter.plot_mimetypes = \"image/svg+xml\")\n",
    "\n",
    "par(mar=rep(1, 4), mfrow=c(3,2))\n",
    "\n",
    "g1 <- make_empty_graph(directed = TRUE) + vertices(1:6)\n",
    "g1 <- g1 + edges(c(1, 2, 3, 4, 5,6 ), color = \"red\")\n",
    "coords <- layout_in_circle(g1, order = V(g1))\n",
    "plot(g, layout = coords, \n",
    "     main = \"Graph A\",\n",
    "     vertex.label = 0:5,\n",
    "     vertex.size = 20,\n",
    "     vertex.label.family = 'sans',\n",
    "     vertex.label.font = 2,\n",
    "     vertex.color = \"white\", \n",
    "     vertex.label.color = \"black\", \n",
    "     edge.color = \"red\")\n",
    "\n",
    "g2 <- g1 + edges(c(3, 2, 3, 1), color = \"blue\")\n",
    "coords <- layout_in_circle(g2, order = V(g2))\n",
    "plot(g2, layout = coords, \n",
    "     main = \"Graph B\",\n",
    "     vertex.label = 0:5,\n",
    "     vertex.size = 20,\n",
    "     vertex.label.family = 'sans',\n",
    "     vertex.label.font = 2,\n",
    "     vertex.color = \"white\", \n",
    "     vertex.label.color = \"black\")\n",
    "\n",
    "g3 <- g1 + edges(c(4, 1, 4, 2), color = \"blue\")\n",
    "coords <- layout_in_circle(g3, order = V(g3))\n",
    "plot(g3, layout = coords, \n",
    "     main = \"Graph C\",\n",
    "     vertex.label = 0:5,\n",
    "     vertex.size = 20,\n",
    "     vertex.label.family = 'sans',\n",
    "     vertex.label.font = 2,\n",
    "     vertex.color = \"white\", \n",
    "     vertex.label.color = \"black\")\n",
    "\n",
    "g4 <- g3 + edges(c(5, 3, 5, 4), color = \"forestgreen\")\n",
    "coords <- layout_in_circle(g4, order = V(g4))\n",
    "plot(g4, layout = coords, \n",
    "     main = \"Graph D\",\n",
    "     vertex.label = 0:5,\n",
    "     vertex.size = 20,\n",
    "     vertex.label.family = 'sans',\n",
    "     vertex.label.font = 2,\n",
    "     vertex.color = \"white\", \n",
    "     vertex.label.color = \"black\")\n",
    "\n",
    "g5 <- g3 + edges(c(6, 3, 6, 4), color = \"forestgreen\")\n",
    "coords <- layout_in_circle(g5, order = V(g5))\n",
    "plot(g5, layout = coords, \n",
    "     main = \"Graph E\",\n",
    "     vertex.label = 0:5,\n",
    "     vertex.size = 20,\n",
    "     vertex.label.family = 'sans',\n",
    "     vertex.label.font = 2,\n",
    "     vertex.color = \"white\", \n",
    "     vertex.label.color = \"black\")\n",
    "\n",
    "g6 <- g5 + edges(c(3, 5), color = \"orange\")\n",
    "g6 <- g6 + edges(c(6, 1), color = \"purple\")\n",
    "g6 <- g6 + edges(c(2, 5, 2, 6), color = \"deeppink\")\n",
    "coords <- layout_in_circle(g6, order = V(g6))\n",
    "plot(g6, layout = coords, \n",
    "     main = \"Graph F\",\n",
    "     vertex.label = 0:5,\n",
    "     vertex.size = 20,\n",
    "     vertex.label.family = 'sans',\n",
    "     vertex.label.font = 2,\n",
    "     vertex.color = \"white\", \n",
    "     vertex.label.color = \"black\")"
   ]
  },
  {
   "cell_type": "markdown",
   "metadata": {},
   "source": [
    "The method I intend to use to solve this problem is proof by exhaustion. Perhaps there is a more elegant and concise path of attack but if so, it eludes me. If any reader has a better suggestion of how this can be proved, please get in touch."
   ]
  },
  {
   "cell_type": "markdown",
   "metadata": {},
   "source": [
    "We start with graph A in which we arbitrarily orient the three edges between players 0 and 1, 2 and 3, 4 and 5. We can do this without loss of generality since the players are indistinguishable so we could simply re-label at this point. We could continue to arbitrarily orient edges such as the one between vertices 1 and 3 since we could then switch the labels of the pairs $(0,1)$ and $(2,3)$ to enforce generality, but this ends up making the case analysis more complicated. "
   ]
  },
  {
   "cell_type": "markdown",
   "metadata": {},
   "source": [
    "We now choose a vertex which will beat the 2-subset $\\{0, 1\\}$. Since the pairs $(2,3)$ and $(4, 5)$ are indistinguishable, without loss of generality we can choose this dominating vertex to either by 2 or 3."
   ]
  },
  {
   "cell_type": "markdown",
   "metadata": {},
   "source": [
    "In the case where we choose vertex 2, we are left with graph B. At this point, we are done since it is impossible for any vertex to beat both players 2 and 4. This is because 2 beats all players but 4 and 5 and the only possible saviour, player 5, beats player 4. We can now turn our attention to the other more complicated case."
   ]
  },
  {
   "cell_type": "markdown",
   "metadata": {},
   "source": [
    "If we had instead chosen vertex 3, we would reach graph C. Unfortunately, we cannot stop here as there is still plenty of choice over how we orient our edges. We now consider the two subset $\\{2, 3\\}$ and try to find a vertex that can beat both of them. Since player 3 beats both player 0 and 1, we are only left with the choice of player 4 or 5."
   ]
  },
  {
   "cell_type": "markdown",
   "metadata": {},
   "source": [
    "Suppose we select vertex 4, this gives rise to graph D. We are lucky this time and we can immediately handle this case. This is because there is no player that could possibly beat both players 3 and 4. Indeed player 3 beats both of players 0 and 1, and player 4 does the same for 2 and 5."
   ]
  },
  {
   "cell_type": "markdown",
   "metadata": {},
   "source": [
    "If we had instead chosen vertex 5, we would be left with graph E. Every choice we make is now forced, but we still have to make a few additions before we reach a contradiction. "
   ]
  },
  {
   "cell_type": "markdown",
   "metadata": {},
   "source": [
    "First we need a vertex which beats both players 3 and 4. This can only be player 2 so we add a yellow edge to denote this. We next observe that the only vertex that can beat both players 0 and 2 is player 5 and so we add the purple edge. Lastly, we spot that the only player that can beat both players 4 and 5 is player 1, giving rise to the addition of the last 2 pink edges.\n",
    "\n",
    "After all additions have been made, we attain graph F. At this point we observe that no player can beat both players 1 and 5, and so we are done. "
   ]
  },
  {
   "cell_type": "raw",
   "metadata": {},
   "source": [
    "{% colorquote success %}\n",
    "This also proves that no 2-paradoxical tournament exists for less than 6 players and that no $k$-paradoxical tournament exists for 6 players for any $k\\geq2$. I will leave the reader to ponder why these statements are in fact true.\n",
    "{% endcolorquote %}"
   ]
  },
  {
   "cell_type": "markdown",
   "metadata": {},
   "source": [
    "## Diving Deep"
   ]
  },
  {
   "cell_type": "markdown",
   "metadata": {},
   "source": [
    "Now that we have investigated the behaviour of 1-and-2-paradoxical tournaments, we can turn our attention to larger $k$. \n",
    "\n",
    "When researching the more general case, it surprised me how little material on this topic is available online. All Wikipedia has to say on the topic is a single paragraph within the page on general tournaments in graph theory. Further, my two favourite combinatorics textbooks—[Combinatorics and Graph Theory (Harris)](https://www.amazon.co.uk/Combinatorics-Graph-Theory-Undergraduate-Mathematics/dp/0387797106) and [Foundations of Combinatorics with Applications (Bender, Williamson)](https://www.amazon.co.uk/Foundations-Combinatorics-Applications-Dover-Mathematics/dp/0486446034)—make no mention of it. There are a handful of research papers on the topic, though these prefer the name Schutte tournament to paradoxical, yet these are quite dense. My plan is to walk through some strategies on how we can handle general $k$-paradoxical tournaments and try to produce a coherent introductory guide to their study."
   ]
  },
  {
   "cell_type": "markdown",
   "metadata": {},
   "source": [
    "### A Brute Force Strategy"
   ]
  },
  {
   "cell_type": "markdown",
   "metadata": {},
   "source": [
    "I am not the type to shy away from leveraging computation to solve a difficult problem. This, however, is far from a suitable problem for using brute force. \n",
    "\n",
    "Consider the 7-player tournament above. It just so happens to be 2-paradoxical but that is only because it was carefully chosen. What if we were to approach the problem by generating all possible tournaments and checking whether they were 2-paradoxical or, more generally, $k$-paradoxical?\n",
    "\n",
    "For our 7 player example there are 21 edges. You are welcome to count them but a simpler method to come up with this number is to note that each edge can be constructed by picking one of the 7 vertices to start on and then choosing one of the 6 remaining vertices to connect it to. This gives us 42 possible edges but since the edge $\\{0,1\\}$ is the same as $\\{1,0\\}$, we need to divide by two to get the true number.\n",
    "\n",
    "We then have a choice of two orientations for each edge, and so the total number of tournaments is $2^{21} = 2097152$. That is a lot of cases to check, and for each one, proving whether or not a given tournament is $k$-paradoxical is no easy feat. On a powerful computer it would most likely be tractable to find the smallest 2-paradoxical tournament but for larger $k$ we stand no chance.\n",
    "\n",
    "For a general tournament on $n$ vertices, we can use the argument above to show that there are $\\frac{n(n-1)}{2}$ possibilities. We could reduce this slightly by using some symmetry arguments but we will not be able to change the fact that this is $O(n^2)$. Therefore when we exponent this we get something of the order $O(2^{n^2})$ which will quickly become intractable for larger n.\n",
    "\n",
    "For example, by the time we have a tournament with 25 players, there will be more possibilities than atoms in the observable universe. We will later see that this would be enough to find a 3-paradoxical tournament but not 4-paradoxical. We need a new strategy"
   ]
  },
  {
   "cell_type": "markdown",
   "metadata": {},
   "source": [
    "### A Constructive Approach"
   ]
  },
  {
   "cell_type": "markdown",
   "metadata": {},
   "source": [
    "The next thing we will look at is constructive method for finding an upper bound on the smallest tournament that is $k$-paradoxical. This was formulated by Graham and Spencer in 1971<sup>[[src]](https://www.cambridge.org/core/journals/canadian-mathematical-bulletin/article/constructive-solution-to-a-tournament-problem/F6DDB2DE033EE8AD7B5E9BE0EBEDE0D6)</sup> and is known as a Paley tournament. \n",
    "\n",
    "In order to look into that we need to take a short tangent into the world of number theory. \n",
    "\n",
    "We say that an integer $a$ is a quadratic residue modulo $n$ if an $x$ exists such that $a\\equiv x^2 (\\textrm{mod } n)$. Let $p$ be a prime such that $p \\equiv 3 \\, (\\textrm{mod } 4)$. We define the edges of a tournament with vertex set $\\{0, 1, \\ldots, p-1\\}$ by directing an edge from $i$ to $j$ if and only if $i-j$ is a quadratic residue of $p$. It can be shown that since $p \\equiv 3 \\, (\\textrm{mod } 4)$, exactly one of $i$ and and $p-i$ is a quadratic residue of $p$ and so the tournament is well-defined.\n",
    "\n",
    "Graham and Spencer proved that whenever $p$ is chosen such that $p > k^2 2^{2k-2}$ and $p \\equiv 3 \\, (\\textrm{mod } 4)$ as before, then the Paley tournament produced be the process above is $k$-paradoxical. \n",
    "\n",
    "The first prime satisfying $p > k^2 2^{2k-2}$ and $p \\equiv 3 \\,(\\textrm{mod } 4)$ for $k = 2$ is $19$ and for $k=3$ it is $151$ These are certainly not optimum solutions but they do offer an upper bound. More precisely, the bound has $O(k^2 4^{k})$ players.\n",
    "\n",
    "The proof of this requires a strong knowledge of number theory and we've already way too far from home (combinatorics) so I will direct any curious reader to the [original paper](https://www.cambridge.org/core/services/aop-cambridge-core/content/view/F6DDB2DE033EE8AD7B5E9BE0EBEDE0D6/S0008439500057842a.pdf/constructive_solution_to_a_tournament_problem.pdf) on the topic."
   ]
  },
  {
   "cell_type": "markdown",
   "metadata": {},
   "source": [
    "#### Tightening Bounds"
   ]
  },
  {
   "cell_type": "markdown",
   "metadata": {},
   "source": [
    "We can use the idea of quadratic residues to construct smaller examples. The above theorem will be of no use if we don't satisfy its conditions but we can use the concept to construct good 'guesses' for paradoxical tournaments and then verify them using computation.\n",
    "\n",
    "The quadratic residues of 7 are $\\{1,2,4\\}$. If you recall from above, these were the sizes of steps that we connected together in to construct the 2-paradoxical tournament above. Meanwhile, the quadratic residues of 19 are $\\{1, 4, 5, 6, 7, 9, 11, 16, 17\\}$ so if for each vertex $v$ we add a directed edge from $v$ to $(v + 1) \\textrm{ mod } 19, \\ldots, (v + 17) \\textrm{ mod } 19$ we obtain the following graph which so happens to be 3-paradoxical."
   ]
  },
  {
   "cell_type": "raw",
   "metadata": {},
   "source": [
    "@noecho"
   ]
  },
  {
   "cell_type": "raw",
   "metadata": {},
   "source": [
    "@caption=\"A Paley tournament as an example of a 3-paradoxical tournament on 19 vertices\""
   ]
  },
  {
   "cell_type": "code",
   "execution_count": null,
   "metadata": {},
   "outputs": [],
   "source": [
    "options(repr.plot.width=6, \n",
    "        repr.plot.height=6,\n",
    "        jupyter.plot_mimetypes = \"image/svg+xml\")\n",
    "\n",
    "par(mar=rep(0, 4)+.1)\n",
    "\n",
    "g <- make_empty_graph(directed = TRUE) + vertices(1:19)\n",
    "\n",
    "for (v in 1:19) {\n",
    "    for (w in c(1, 4, 5, 6, 7, 9, 11, 16, 17)) {\n",
    "        g <- g + edge(c(v, (v + w - 1) %% 19 + 1))\n",
    "    }\n",
    "}\n",
    "\n",
    "coords <- layout_in_circle(g, order = V(g))\n",
    "plot(g, layout = coords, \n",
    "     vertex.label = 0:18,\n",
    "     vertex.size = 10,\n",
    "     vertex.label.family = 'sans',\n",
    "     vertex.label.font = 2,\n",
    "     vertex.color = \"white\", \n",
    "     vertex.label.color = \"black\", \n",
    "     edge.color = \"black\",\n",
    "     edge.arrow.size = 0.5)"
   ]
  },
  {
   "cell_type": "markdown",
   "metadata": {},
   "source": [
    "Perhaps not so easy to verify, but this is indeed 3-paradoxical. It also turns out to be the minimal such tournament<sup>[[src]](https://www.jstor.org/stable/pdf/3612854.pdf)</sup>. "
   ]
  },
  {
   "cell_type": "markdown",
   "metadata": {},
   "source": [
    "### Probabilistic Methods"
   ]
  },
  {
   "cell_type": "markdown",
   "metadata": {},
   "source": [
    "As we just saw, the bounds obtained using the constructive method are very weak. Perhaps we could do better if we relax the need to find an explicit example. This is where probabilistic methods come in; we can use some stochastic magic to show that, even though we may not be able to find it, at least on tournament of a certain size $n$ is $k$-paradoxical. This method is based on a paper by Erdős published in 1963<sup>[[src]](https://www.renyi.hu/~p_erdos/1963-08.pdf)</sup>."
   ]
  },
  {
   "cell_type": "markdown",
   "metadata": {},
   "source": [
    "Before we reach a final value of n for which we can be sure that a $k$-paradoxical tournament exists, we need to proof an intermediate theorem:"
   ]
  },
  {
   "cell_type": "raw",
   "metadata": {},
   "source": [
    "{% blockquote %}\n",
    "**Theorem**\n",
    "\n",
    "Let $k,n\\in\\mathbb{N}$, with $k\\geq2$ and ${n \\choose k}(1-2^{-k})^{n-k}<1$.\n",
    "\n",
    "Then there exists a $k$-paradoxical tournament with $n$ vertices.\n",
    "{% endblockquote %}"
   ]
  },
  {
   "cell_type": "markdown",
   "metadata": {},
   "source": [
    "The proof of this has a distinctly probabilistic flavour to it. First we consider a random tournament on $n$ vertices where $n$ is chosen such that the assumptions of the theorem hold. We then fix a subset of size $k$, $K$, and let $A_K$ denote the random event that there is no vertex beating all elements in $K$. \n",
    "\n",
    "Since edges are oriented independently and uniformly, the probability of any specific vertex beating every vertex in $K$ is $2^{-k}$. There the probability of such a vertex *not* beating every vertex in $K$ is $1-2^{-k}$. Using independence again we see that the probability of no vertex beating all elements in $K$, $\\mathbb{P}(A_K)$ is $(1-2^{-k})^{n-k}$, as there are $n-k$ vertices not in $K$ each of which has probability $1-2^{-k}$ of satisfying the property. \n",
    "\n",
    "Now by sub-additivity (also know as Boole's inequality) we have that\n",
    "\n",
    "$$\\mathbb{P}\\left(\\bigcup_{|K|=k}A_K\\right) \\leq \\sum_{|K|=k} \\mathbb{P}(A_K) = {n \\choose k} (1-2^{-k})^{n-k}$$\n",
    "\n",
    "Where the last step comes from the fact that there are $n \\choose k$ ways to choose a k-subset from $n$ vertices. Therefore, by the assumption of the theorem we have\n",
    "\n",
    "$$\\mathbb{P}\\left(\\bigcup_{|K|=k}A_K\\right) \\lt 1$$\n",
    "\n",
    "Since the probability of the event $\\bigcup_{|K|=k}A_K$ is less than one, its complement, $\\bigcap_{|K|=k}A_K^C$ must occur with non-zero probability. It follows that there must at least one tournament on the $n$ vertices which satisfies $\\bigcap_{|K|=k}A_K^C$, that is, a tournament in which every k-subset has at least one vertex beating all elements of the subset as we required."
   ]
  },
  {
   "cell_type": "raw",
   "metadata": {},
   "source": [
    "{% colorquote success %}\n",
    "Note, that since our proof is not constructive, we do not have a way to directly find the $k$-paradoxical tournament. We do however know that one exists.\n",
    "{% endcolorquote %}"
   ]
  },
  {
   "cell_type": "markdown",
   "metadata": {},
   "source": [
    "So what bounds does this give us? For $k=2$, trying our know optimum $n = 7$ gives ${7 \\choose 2}\\frac{3}{4}^5 = 4.983\\ldots\\gg 1$. It is actually not until $n = 21$ that the theorem condition is satisfied. This is even worse than the bound of 19 that the constructive method gave us.\n",
    "\n",
    "By $k=3$, however, things have improved. The first $n$ satisfying the inequality is 91, much less than the value of 151 given by the constructive approach. This may suggest that the probabilistic method has a more favourable asymptotic than the constructive approach. We will explore the in more detail in a moment."
   ]
  },
  {
   "cell_type": "markdown",
   "metadata": {},
   "source": [
    "#### Limiting Behaviour"
   ]
  },
  {
   "cell_type": "markdown",
   "metadata": {},
   "source": [
    "An interesting observation is that for any $k>1$, we have that $\\lim_{n\\to\\infty}{n \\choose k}(1-2^{-k})^{n-k} = 1$. Indeed\n",
    "\n",
    "$$\n",
    "\\begin{align}\n",
    "{n \\choose k}(1-2^{-k})^{n-k} &\\lt \\frac{n^k}{k!}(1-2^{-k})^{n-k} \\\\\n",
    "&\\lt n^k(1-2^{-k})^{n-k} \\\\\n",
    "&\\leq n^k(1-2^{-k})^{\\frac{n}{2}} & \\textrm{for } n \\geq 2k\\\\\n",
    "&= n^kC^{n} & \\textrm{with } C = \\sqrt{1-2^{-k}} \\lt 1\\\\\n",
    "\\end{align}\n",
    "$$\n"
   ]
  },
  {
   "cell_type": "markdown",
   "metadata": {},
   "source": [
    "It is clear that the right hand side tends to zero as $n\\to\\infty$ and so so must the left hand side by the squeeze rule. The implication of this is that ,for any given $k$, if we have a tournament with enough players, it is very likely (or as $n\\to\\infty$, almost certain) that a random tournament of that size will be $k$-paradoxical. It just can't be avoided!"
   ]
  },
  {
   "cell_type": "markdown",
   "metadata": {},
   "source": [
    "#### Comparison to Constructive Approach"
   ]
  },
  {
   "cell_type": "markdown",
   "metadata": {},
   "source": [
    "As we saw early, the constructive method gives us a $k$-paradoxical tournament with $O(k^2 4^{k})$ players. Does this new probabilistic method improve on this bound? It turns out that it, as we will now see. Take $k>1$ and observe that"
   ]
  },
  {
   "cell_type": "markdown",
   "metadata": {},
   "source": [
    "$$\n",
    "\\begin{align}\n",
    "{n \\choose k}(1-2^{-k})^{n-k} &\\lt \\frac{n^k}{k!}(1-2^{-k})^{n-k} \\\\\n",
    "&\\lt \\frac{n^k}{k!}\\exp\\left(-2^{-k}\\right)^{n-k} & [1+x \\leq e^x] \\\\\n",
    "&= \\frac{n^k}{k!}\\exp\\left(-(n-k)2^{-k}\\right) \\\\\n",
    "&\\lt n^k\\exp\\left(-n 2^{-k}\\right)  & [\\textrm{Stirling's Bound}]\n",
    "\\end{align}\n",
    "$$"
   ]
  },
  {
   "cell_type": "markdown",
   "metadata": {},
   "source": [
    "Now choose $n > 2^k k^2 \\ln(2+\\epsilon)$ for some $\\epsilon > 0$ and suppose for contradiction that there is no $k$-paradoxical graph on $n$ vertices. By the theorem above we must have that $1 \\leq {n \\choose k}(1-2^{-k})^{n-k}$ and so from the previous working it follows that\n",
    "\n",
    "$$\n",
    "\\begin{align}\n",
    "& 1 \\lt n^k\\exp\\left(-n 2^{-k}\\right) \\\\\n",
    "\\iff & 1 \\lt n\\exp\\left(-nk 2^{-k}\\right) \\\\\n",
    "\\iff & 1 \\lt n^{\\frac{1}{n}}\\exp\\left(-k 2^{-k}\\right) \\\\\n",
    "\\iff &  \\exp\\left(k 2^{-k}\\right) \\lt  n^{\\frac{1}{n}} \\\\\n",
    "\\iff & \\frac{1}{k2^k} \\lt \\frac{\\ln n}{n}\n",
    "\\end{align}\n",
    "$$"
   ]
  },
  {
   "cell_type": "markdown",
   "metadata": {},
   "source": [
    "Now,, since $\\frac{\\ln n}{n}$ is decreasing for $n\\geq3$ and, by assumption, $n > 2^k k^2 \\ln(2+\\epsilon) \\geq 3$, for $k>1$ we have that\n",
    "\n",
    "$$\\frac{1}{k2^k} \\lt \\frac{\\ln q}{q} \\qquad \\textrm{with } q = 2^k k^2 \\ln(2+\\epsilon)$$"
   ]
  },
  {
   "cell_type": "markdown",
   "metadata": {},
   "source": [
    "That is to say that\n",
    "\n",
    "$$k\\ln(2 + \\epsilon) \\lt \\ln(2^k k^2 \\ln(2+\\epsilon))$$\n",
    "\n",
    "Which is\n",
    "\n",
    "$$\\ln(2 + \\epsilon) \\lt \\ln(2) + \\frac{1}{k}\\ln(k^2 \\ln(2+\\epsilon))$$\n",
    "\n",
    "This however will not hold for any $\\epsilon>0$ if we choose $k$ to be large enough. Therefore, for sufficiently large $k$, whenever $n > 2^k k^2 \\ln(2+\\epsilon)$, we will have at least one $k$-paradoxical tournament on $n$ vertices.\n",
    "\n",
    "It follows from this that there exists a $k$-paradoxical tournament with $O(k^2 2^k)$ players. This is a massive improvement on the $O(k^2 4^k)$ players that we had before. In fact, it is almost the square root of the original complexity"
   ]
  },
  {
   "cell_type": "markdown",
   "metadata": {},
   "source": [
    "### Lower Bounds"
   ]
  },
  {
   "cell_type": "markdown",
   "metadata": {},
   "source": [
    "So far we have taken a look at some upper bounds, that is, how many players we need before it is certain that we can find a $k$-paradoxical tournament. But what of lower bounds? What is the minimum number of players that we require before a $k$-paradoxical tournament could even be possible. An inductive argument can show that we must have at least $2^{k+1} - 1$ players for a tournament to be $k$-paradoxical. It goes like this."
   ]
  },
  {
   "cell_type": "markdown",
   "metadata": {},
   "source": [
    "We know that this inequality holds for $k=1$ — a tournament with less than $2^2-1=3$ players certainly can't be paradoxical. We proceed inductively. Suppose that the statement holds for $k = m-1$ for some integer $m > 1$; we want to show that, under this assumption, it also holds for $k=m$."
   ]
  },
  {
   "cell_type": "markdown",
   "metadata": {},
   "source": [
    "Suppose, for contradiction, that this is not the case. That means that we have a graph $G^{(n)}$ which is $m$-paradoxical but with $n \\leq 2^{m+1} - 2$. For each vertex $v$ of $G^{(n)}$, let $G^{(n)}(v)$ denote the set of starting points of all edges of $G^{(n)}$ which end at $v$, that is, the set of vertices which are beating $v$."
   ]
  },
  {
   "cell_type": "markdown",
   "metadata": {},
   "source": [
    "As we showed in 'A Brute Force Strategy', $G^{(n)}$ has $\\frac{1}{2}n(n-1)$ edges, so at least one of $G^{(n)}(v)$ must have $\\frac{1}{2}(n-1)$ elements or fewer by the Pigeonhole Principle. Let $v^*$ be such a vertex with $G^{(n)}(v^*)=:N\\leq\\frac{1}{2}(n-1)$. Since we assumed that $n \\leq 2^{m+1} -2$, it follows that $N \\leq 2^m - 2$."
   ]
  },
  {
   "cell_type": "raw",
   "metadata": {},
   "source": [
    "{% colorquote success %}\n",
    "Remember, $N$, is an integer so $N \\leq 2^m - \\frac{3}{2} \\implies N \\leq 2^m - 2$.\n",
    "{% endcolorquote %}"
   ]
  },
  {
   "cell_type": "markdown",
   "metadata": {},
   "source": [
    "We now have two possibilities to look at:\n",
    "1. $N \\geq m - 1$ \n",
    "2. $N \\lt m -1$"
   ]
  },
  {
   "cell_type": "markdown",
   "metadata": {},
   "source": [
    "We start with the first case. Our plan of attack is to show that $G^{(n)}(v^*)$ is $(m-1)$-paradoxical. It then would follow from our inductive hypothesis that $N \\geq 2^m - 1$ which contradicts that $N \\leq 2^m -2$.\n",
    "\n",
    "Let $V$ be any set of any $m-1$ elements of $G^{(n)}(v^*)$. Since $G^{(n)}$ is $m$-paradoxical by assumption, and $V \\cup v^*$ is of size $n$, we must be able to find a vertex $w$ which beats all of $V \\cup v^*$. In particular, this means that $w$ beats $v^*$ and so $w \\in G^{(n)}(v^*)$ by definition. Since this is true for arbitrary $V$, we have that $G^{(n)}(v^*)$ is $(m-1)$-paradoxical, giving the contradiction mentioned above."
   ]
  },
  {
   "cell_type": "markdown",
   "metadata": {},
   "source": [
    "We now turn our attention to the second case. Take $G^{(n)}(v^*)$ and add any $m-1-N$ vertices from $G^{(n)}$, excluding $v^*$, to obtain an $m-1$ vertex subgraph $G^{(m-1)}$. This subgraph will be $(m-1)$-paradoxical. Why? Let's see:"
   ]
  },
  {
   "cell_type": "markdown",
   "metadata": {},
   "source": [
    "Consider the vertices of $G^{(m-1)}$ along with $v^*$. This forms a set of $m$ vertices in $G^{(n)}$ and since we have assumed that this is $m$-paradoxical, we can find $w$ as before that beats all of $G^{(m-1)}$ and $v^*$. Using the same argument as before, $w\\in G^{(m-1)}$. But this is impossible since $G^{(m-1)}$ has $m-1$ vertices all of which are beaten by $w \\in G^{(m-1)}$, implying the existence an $m$th vertex."
   ]
  },
  {
   "cell_type": "markdown",
   "metadata": {},
   "source": [
    "Either way, we arrive at a contradiction. Hence it must be the case that $n \\gt 2^{m+1} - 2$ and we are done."
   ]
  },
  {
   "cell_type": "markdown",
   "metadata": {},
   "source": [
    "#### Improving Bounds"
   ]
  },
  {
   "cell_type": "markdown",
   "metadata": {},
   "source": [
    "This bound was improved by Esther and George Szekeres in 1965 to $(k+2)2^{k-1}-1$<sup>[[src]](https://www.jstor.org/stable/pdf/3612854.pdf?seq=1#page_scan_tab_contents)</sup>. But this blog post is already very long so we will leave it their and move on to summarising these results."
   ]
  },
  {
   "cell_type": "markdown",
   "metadata": {},
   "source": [
    "## Summary"
   ]
  },
  {
   "cell_type": "markdown",
   "metadata": {},
   "source": [
    "We have covered an incredible amount of material on $k$-paradoxical tournaments in just one post so I suggest that it would be beneficial to summarise all of the results we have arrived at in a table. "
   ]
  },
  {
   "cell_type": "raw",
   "metadata": {},
   "source": [
    "<style>\n",
    "table {\n",
    "    width: 100% !important;\n",
    "}\n",
    "th {\n",
    "    text-align: center !important;\n",
    "}\n",
    "</style>\n",
    "\n",
    "| k | Erdos LB | Szekeres LB | Optimum | Erdos UB | Graham UB |\n",
    "|:-:|:--------:|:-----------:|:-------:|:--------:|:---------:|\n",
    "| 1 |     3    |      2      |    3    |     3    |     3     |\n",
    "| 2 |     7    |      7      |    7    |    21    |     19    |\n",
    "| 3 |    15    |      19     |    19   |    91    |    151    |\n",
    "| 4 |    31    |      47     |    ?    |    149   |    1031   |\n",
    "| 5 |    63    |     111     |    ?    |    353   |    6427   |"
   ]
  },
  {
   "cell_type": "markdown",
   "metadata": {},
   "source": [
    "As eluded to in the table, we are still yet to have found the optimal values of $n$ for $k$ bigger than 3. Looking at the Szekeres Lower Bound is it is clear that using traditional computing, this problem is completely intractable for a brute force approach. Never-the-less breakthroughs in the field could open up new possibilities but for now, it's probably best to close your console and get back to pen and paper if you really want to make any progress. "
   ]
  },
  {
   "cell_type": "markdown",
   "metadata": {},
   "source": [
    "At this point, I would normally suggest further reading, but frankly, we have exhausted almost all of what the literature has to offer. Perhaps the next step would be to have a look at the original source documents that I have used to write this post (using `ctrl-F` to search for 'src' will help you find those)."
   ]
  }
 ],
 "metadata": {
  "kernelspec": {
   "display_name": "R",
   "language": "R",
   "name": "ir"
  },
  "language_info": {
   "codemirror_mode": "r",
   "file_extension": ".r",
   "mimetype": "text/x-r-source",
   "name": "R",
   "pygments_lexer": "r",
   "version": "3.6.0"
  }
 },
 "nbformat": 4,
 "nbformat_minor": 2
}
