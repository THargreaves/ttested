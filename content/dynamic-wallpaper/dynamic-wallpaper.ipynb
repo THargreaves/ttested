{
 "cells": [
  {
   "cell_type": "raw",
   "metadata": {},
   "source": [
    "---\n",
    "title: \"Creating a Dynamic 8-Bit Wallpaper for Linux with Python\"\n",
    "date: '2018-11-27'\n",
    "excerpt: \"Your desktop wallpaper may be the one image that you see most often in a given day so its probably worth your time to make it look the best it can. In this post, I offer a template for a dynmically-changing 8-Bit wallpaper which automatically syncs itself to sunrise and sunset times, produced using Python and compatible with Linux.\"\n",
    "thumbnail: /gallery/thumbnails/dynamic-wallpaper.jpg\n",
    "toc: true\n",
    "categories:\n",
    "- [System]\n",
    "tags:\n",
    "- linux\n",
    "- python\n",
    "- r\n",
    "- data-mining\n",
    "---"
   ]
  },
  {
   "cell_type": "markdown",
   "metadata": {},
   "source": [
    "Recently, whilst browsing Reddit, I came across an old thread on [r/wallpapers](https://www.reddit.com/r/wallpapers/) showcasing a collection of 8-bit desktop wallpapers each of which displaying a beautiful landscape at a different time of day. The thread linked to the following [Imgur gallery](https://imgur.com/a/VZ9H2) containing all of the images."
   ]
  },
  {
   "cell_type": "raw",
   "metadata": {},
   "source": [
    "![The 8-Bit wallpaper for late evening](/images/dynamic-wallpaper/Late-Evening.png)"
   ]
  },
  {
   "cell_type": "markdown",
   "metadata": {},
   "source": [
    "These images by themselves have little use but over the next few years several contributors had grouped together, using these wallpapers, to produce a live wallpaper for android, an integration with Windows and OSX, and a web implementation. Yet the Linux community were not getting much love from the project. \n",
    "\n",
    "There are a few scripts kicking around on Github allowing users to manually set up a live version of the wallpaper but these all seem to use fixed time intervals to determine when to change the wallpaper and so in the summer and winter when the time the sun is up is far from the average value, the wallpaper is completely asynchronous to real life. What I wished to do was to set up an implementation for Linux which would use local sunrise and sunset times to adjust when the wallpaper changes to result in an experience that perfectly matches up with the real world.\n",
    "\n",
    "I used data from the [UK Hydrographic Office](http://astro.ukho.gov.uk/surfbin/first_beta.cgi), a website offering free astronomical data for anybody to use. Using this site you can generate a text file containing the sunrise and sunset times for any location in the United Kingdom (with daylight savings already accounted for). I retrieved this data for the entirety of 2018. If you wanted complete accuracy this would need to be updated each year but with the annual difference of the sunrise/set times being in the handfuls of minutes, I don't think this is necessary.\n",
    "\n",
    "This data comes in a very messy format and so I had to perform some cleaning with R:"
   ]
  },
  {
   "cell_type": "raw",
   "metadata": {},
   "source": [
    "{% codeblock lang:R %}\n",
    "# required libraries\n",
    "library(dplyr)\n",
    "library(magrittr)\n",
    "library(tidyr)\n",
    "\n",
    "# extract data on months January to June\n",
    "first_months <- read_table(\"rise_set_times.txt\", \n",
    "                           skip = 7,\n",
    "                           n_max = 37, \n",
    "                           col_names = FALSE) %>%\n",
    "  # remove any row that is just NAs\n",
    "  filter_all(any_vars(!is.na(.))) %>%\n",
    "  # replace blank values with NAs\n",
    "  mutate_all(funs(replace(., . == \"\", NA)))\n",
    "\n",
    "# extract data on months July to December\n",
    "last_months <- read_table(\"rise_set_times.txt\", \n",
    "                           skip = 65,\n",
    "                           n_max = 37, \n",
    "                           col_names = FALSE) %>%\n",
    "  filter_all(any_vars(!is.na(.))) %>%\n",
    "  # remove duplicate day column\n",
    "  select(-1) %>%\n",
    "  mutate_all(funs(replace(., . == \"\", NA)))\n",
    "\n",
    "# combine all months\n",
    "all_months <- bind_cols(first_months, last_months) %>%\n",
    "  # convert all variables to integers after removing leading whitespace\n",
    "  mutate_all(funs(as.integer(str_remove(., \"$\\\\s\"))))\n",
    "\n",
    "# combine sunset and sunrise times (and hours and minutes) for gathering\n",
    "for (i in 1:12) {\n",
    "  all_months %<>% unite(col = !! i, !! {i + 1:4}, sep = \" | \")\n",
    "}\n",
    "\n",
    "all_months %<>% rename(Day = X1)\n",
    "\n",
    "# gather months into its own column\n",
    "all_months %<>% gather(\"Month\", \"Set_Rise_Times\", -Day)\n",
    "\n",
    "# reorder columns\n",
    "all_months %<>% .[c(2,1,3)]\n",
    "\n",
    "# split sunset and sunrise times into two variables each (hours and minutes)\n",
    "all_months %<>% separate(Set_Rise_Times, \n",
    "                         into = c(\"Rise_Hour\", \"Rise_Minute\", \n",
    "                                  \"Set_Hour\", \"Set_Minute\"), \n",
    "                         convert = TRUE)\n",
    "\n",
    "# output cleaned data as CSV\n",
    "write_csv(all_months, \"processed_times.csv\")\n",
    "{% endcodeblock %}"
   ]
  },
  {
   "cell_type": "markdown",
   "metadata": {},
   "source": [
    "Cleaning this data is much easier in R than Python, yet to keep this blog post self-contained for anyone familiar with just the basic use of Python, I have packaged this code up into a Shiny web app which can be viewed [here](https://timhargreaves.shinyapps.io/SunsetAndSunriseTimeFileConverter/). Providing you collect the data from the source above using the same settings, you will be able to upload the returned text file to this web app and it will automatically clean the data for you and provide you with a CSV file to download."
   ]
  },
  {
   "cell_type": "raw",
   "metadata": {},
   "source": [
    "![Screenshot of Shiny web app for processing and converting the time files](/images/dynamic-wallpaper/Converter.png)"
   ]
  },
  {
   "cell_type": "markdown",
   "metadata": {},
   "source": [
    "Once your data is clean you can start setting up the wallpaper. You will first need Python 3 installed on your computer. You can then create a folder somewhere in your file system to contain the files relevant to this project. In this folder, you will need to download the images from the Imgur link and add the cleaned CSV file containing the sunset and sunrise times. You then need to copy any one of the wallpapers and rename it to `current.png`. The choice of wallpaper to copy makes no difference as it will be overridden when the wallpaper is updated. Next you need to create a Python script in this folder containing the following code with the blanks filled in:"
   ]
  },
  {
   "cell_type": "raw",
   "metadata": {},
   "source": [
    "{% codeblock lang:Python %}\n",
    "#!/usr/bin/env python\n",
    "\n",
    "import datetime\n",
    "import os\n",
    "import shutil\n",
    "import pandas as pd\n",
    "import numpy as np\n",
    "\n",
    "# set the PATH to the location of the folder containing\n",
    "# the wallpapers and sunrise/set times\n",
    "PATH = \t\t\t\t\"______\"\n",
    "\n",
    "# the filename of the current wallpapr\n",
    "CURRENT = \t\t\t\"current.png\"\n",
    "\n",
    "# the filename of the cleaned sunrise/set CSV file\n",
    "time_data =         \"______\"\n",
    "# the filenames of the wallpapers (e.g \"early_morning.png\")\n",
    "early_morning = \t\"______\"\n",
    "mid_morning = \t\t\"______\"\n",
    "late_morning = \t\t\"______\"\n",
    "early_afternoon =   \"______\"\n",
    "mid_afternoon = \t\"______\"\n",
    "late_afternoon = \t\"______\"\n",
    "early_evening = \t\"______\"\n",
    "mid_evening = \t\t\"______\"\n",
    "late_evening = \t\t\"______\"\n",
    "early_night = \t\t\"______\"\n",
    "mid_night = \t\t\"______\"\n",
    "late_night = \t\t\"______\"\n",
    "# load sunrise/set times data\n",
    "rise_set_times = pd.read_csv(PATH + \"processed_times.csv\")\n",
    "# current datetime\n",
    "month = datetime.datetime.now().month\n",
    "day = datetime.datetime.now().day\n",
    "hour = float(datetime.datetime.now().hour)\n",
    "min = float(datetime.datetime.now().minute)\n",
    "# time as a fraction of the day\n",
    "time_frac = (hour + min / 60) / 24\n",
    "# extract sunrise and sunset times for the particular day\n",
    "day_times = rise_set_times.loc[(rise_set_times['Month'] == month) \n",
    "                                & (rise_set_times['Day'] == 5)]\n",
    "# extract sunrise time\n",
    "rise_hour = day_times.values[0, 2]\n",
    "rise_min = day_times.values[0, 3]\n",
    "# convert to fraction of the day\n",
    "rise_frac = (rise_hour + rise_min / 60) / 24\n",
    "# extract sunset time\n",
    "set_hour = day_times.values[0, 4]\n",
    "set_min = day_times.values[0, 5]\n",
    "# convert to fraction of the day\n",
    "set_frac = (set_hour + set_min / 60) / 24\n",
    "# split day into intervals based on sunrise/set times\n",
    "day_change_times = np.linspace(rise_frac, set_frac, 10)\n",
    "# split night into intervals based on sunrise/set times\n",
    "night_change_times = np.linspace(set_frac, rise_frac + 1, 4) % 1\n",
    "# combine day and night times\n",
    "change_times = np.append(day_change_times, night_change_times[1])\n",
    "change_times = np.insert(change_times, 0, night_change_times[2])\n",
    "\n",
    "# decide on the new wallpaper based on the current time of the day\n",
    "if  time_frac <= change_times[0]:\n",
    "    shutil.copy(PATH + mid_night, PATH + CURRENT)\n",
    "\n",
    "elif time_frac <= change_times[1]:\n",
    "    shutil.copy(PATH + late_night, PATH + CURRENT)\n",
    "\n",
    "elif time_frac <= change_times[2]:\n",
    "    shutil.copy(PATH + early_morning, PATH + CURRENT)\n",
    "\n",
    "elif time_frac <= change_times[3]:\n",
    "    shutil.copy(PATH + mid_morning, PATH + CURRENT)\n",
    "\n",
    "elif time_frac <= change_times[4]:\n",
    "    shutil.copy(PATH + late_morning, PATH + CURRENT)\n",
    "\n",
    "elif time_frac <= change_times[5]:\n",
    "    shutil.copy(PATH + early_afternoon, PATH + CURRENT)\n",
    "\n",
    "elif time_frac <= change_times[6]:\n",
    "    shutil.copy(PATH + mid_afternoon, PATH + CURRENT)\n",
    "\n",
    "elif time_frac <= change_times[7]:\n",
    "    shutil.copy(PATH + late_afternoon, PATH + CURRENT)\n",
    "\n",
    "elif time_frac <= change_times[8]:\n",
    "    shutil.copy(PATH + early_evening, PATH + CURRENT)\n",
    "\n",
    "elif time_frac <= change_times[9]:\n",
    "    shutil.copy(PATH + mid_evening, PATH + CURRENT)\n",
    "\n",
    "elif time_frac <= change_times[10]:\n",
    "    shutil.copy(PATH + late_evening, PATH + CURRENT)\n",
    "\n",
    "elif time_frac <= change_times[11]:\n",
    "    shutil.copy(PATH + early_night, PATH + CURRENT)\n",
    "\n",
    "else :\n",
    "    shutil.copy(PATH + mid_night, PATH + CURRENT)\n",
    "\n",
    "# set the background image\n",
    "os.system(\"/usr/bin/gsettings set org.gnome.desktop.background picture-uri \\\"file:///\" + PATH + CURRENT + \"\\\"\")\n",
    "# alert the user that the background has been changed\n",
    "print(\"Wallpaper changed.\")\n",
    "{% endcodeblock %}"
   ]
  },
  {
   "cell_type": "markdown",
   "metadata": {},
   "source": [
    "The last step is to to use cron, a Linux utility for scheduling jobs to run. To edit the cron tab(le) for your user simply open up the Unix terminal and enter"
   ]
  },
  {
   "cell_type": "raw",
   "metadata": {},
   "source": [
    "{% codeblock lang:Bash %}\n",
    "crontab -e\n",
    "{% endcodeblock %}"
   ]
  },
  {
   "cell_type": "markdown",
   "metadata": {},
   "source": [
    "This will open the cron tab(le) and you can enter the following two lines, replacing the place-holders with the relevant paths, at the bottom of the editor"
   ]
  },
  {
   "cell_type": "raw",
   "metadata": {},
   "source": [
    "{% codeblock %}\n",
    "*/5 * * * * PATH_TO_PYTHON_INSTALLATION PATH_TO_WALLPAPER_CHANGING_SCRIPT\n",
    "@reboot PATH_TO_WALLPAPER_CHANGING_SCRIPT\n",
    "{% endcodeblock %}"
   ]
  },
  {
   "cell_type": "markdown",
   "metadata": {},
   "source": [
    "Don't forget to leave a new line after these new entries else they will fail to interpretted. If you are unsure of the location of your Python installation, running `which python` in the terminal should give you the required path. The first line is used to rerun the wallpaper-updating script every 5 minutes and the second, unsurprisingly, runs it whenever the computer reboots.\n",
    "\n",
    "If all has gone to plan, you should now have your own sun-tracking, live, 8-bit desktop wallpaper."
   ]
  }
 ],
 "metadata": {
  "kernelspec": {
   "display_name": "Python 3",
   "language": "python",
   "name": "python3"
  },
  "language_info": {
   "codemirror_mode": {
    "name": "ipython",
    "version": 3
   },
   "file_extension": ".py",
   "mimetype": "text/x-python",
   "name": "python",
   "nbconvert_exporter": "python",
   "pygments_lexer": "ipython3",
   "version": "3.6.8"
  }
 },
 "nbformat": 4,
 "nbformat_minor": 2
}
