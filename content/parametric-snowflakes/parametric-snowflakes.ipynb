{
 "cells": [
  {
   "cell_type": "raw",
   "metadata": {},
   "source": [
    "---\n",
    "title: \"Bank Holiday Bodge: Parametric Snowflakes\"\n",
    "date: '2019-12-26'\n",
    "excerpt: \"After yesterday's post drawing Christmas trees with Python, it's time to give R a chance to shine. In this post, I use the shiny and ggvis packages to build a webapp for generating parametric snowflakes.\"\n",
    "thumbnail: /gallery/thumbnails/parametric-snowflakes.png\n",
    "toc: false\n",
    "categories:\n",
    "- [Data Science, Visualisation]\n",
    "tags:\n",
    "- r\n",
    "- animation\n",
    "- bank-holiday-bodge\n",
    "- shiny\n",
    "---"
   ]
  },
  {
   "cell_type": "markdown",
   "metadata": {},
   "source": [
    "I guess I should have seen this coming, but I still feel rather surprised to be writing another post so soon."
   ]
  },
  {
   "cell_type": "markdown",
   "metadata": {},
   "source": [
    "Yesterday, I [released a blog post](https://www.ttested.com/coding-up-christmas/) showing how the `matplotlib.animation` Python module can be used to generate a beautiful Christmas tree animation. Why should Python get all the Christmas love though? Well, to compensate, today's Bank Holiday Bodge will be written in R using a combination of shiny and ggvis."
   ]
  },
  {
   "cell_type": "markdown",
   "metadata": {},
   "source": [
    "For those unfamiliar with the format, as of the start of the 2019/20 academic year, I decided to spend each bank holiday working on a project from scratch, writing a blog post to match and releasing the whole thing on the same day. This has been a real challenge and has pushed my coding and writing efficiency to its limit. On the other hand, I've found it highly satisfying to occasionally through out pieces of work that may not be completely polished but are still interesting to me."
   ]
  },
  {
   "cell_type": "markdown",
   "metadata": {},
   "source": [
    "Today's project was a very short one; I feel bad enough doing any coding on such a family-focused day, but I found time to sneak this one in. The result of my work is a simple web app which allows a user to draw snowflakes by altering three parameters: stretch, twist, and wiggle. Furthermore, the colours used in the drawing as well as the line thickness and length can be controlled. The final product can be found [here](https://timhargreaves.shinyapps.io/ParametricSnowflakes/) and the source code is located [here](https://github.com/THargreaves/parametric-snowflakes)"
   ]
  },
  {
   "cell_type": "markdown",
   "metadata": {},
   "source": [
    "If we let $\\alpha$, $\\beta$, and $\\gamma$ represent stretch, twist, and wiggle respectively, then the parametric equations for a snowflake are given by:\n",
    "\n",
    "$$\n",
    "x  = \\sin\\left(\\frac{t}{2}\\right)-\\alpha \\sin\\left(\\beta t\\right)\\cos\\left(t\\right)-\\frac{\\gamma}{10}\\sin\\left(10\\beta t\\right) \\\\\n",
    "y  = \\cos\\left(\\frac{t}{2}\\right)-\\alpha \\sin\\left(\\beta t\\right)\\sin\\left(t\\right)-\\frac{\\gamma}{10}\\cos\\left(10\\beta t\\right) \\\\\n",
    "0 \\leq t  \\leq 4 \\pi ,\\, \\alpha \\in (-1.5, 1.5), \\, \\beta \\in \\{3, 4, \\ldots, 15\\}, \\, \\gamma \\in (0, 1.5)\n",
    "$$"
   ]
  },
  {
   "cell_type": "markdown",
   "metadata": {},
   "source": [
    "The contents of the code are pretty standard except for the use of `ggvis` over `ggplot2`. `ggvis` is a package still lacking maturity. It was brought into the world many years ago with the hope of replacing `ggplot2`. The beauty of the package is that it plots directly to a web canvas, making animation and interactivity with the resultant graphics simple to implement and smooth to view. Unfortunately, support for the package has slowly faded and it currently sits in limbo waiting for the right developers to take it where it needs to go. For now, it still has many useful features (although the difficultly of implementing these due to the lack-luster documentation makes it questionable whether it is worth the effort)."
   ]
  },
  {
   "cell_type": "markdown",
   "metadata": {},
   "source": [
    "I decided to use this package so that I could easier animate between snowflakes when the shape parameters were changed. I am happy with the result although I would have liked to make the transitions smoother if I had time."
   ]
  },
  {
   "cell_type": "markdown",
   "metadata": {},
   "source": [
    "Anyway, have a play around and I will see you on New Year's Day!"
   ]
  }
 ],
 "metadata": {
  "kernelspec": {
   "display_name": "R",
   "language": "R",
   "name": "ir"
  },
  "language_info": {
   "codemirror_mode": "r",
   "file_extension": ".r",
   "mimetype": "text/x-r-source",
   "name": "R",
   "pygments_lexer": "r",
   "version": "3.6.0"
  }
 },
 "nbformat": 4,
 "nbformat_minor": 2
}
