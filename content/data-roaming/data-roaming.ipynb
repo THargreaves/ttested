{
 "cells": [
  {
   "cell_type": "raw",
   "metadata": {},
   "source": [
    "---\n",
    "title: \"Data Roaming: A Portable Linux Environment for Data Science\"\n",
    "date: '2021-08-02'\n",
    "excerpt: \"When trying to fit data science in with a busy schedule of study, one often needs to work from shared university or library computers. Rather than spending the first 15 minutes of your working session reinstalling software, why not create a bootable USB stick with all your requirements ready to go?\"\n",
    "thumbnail: /gallery/thumbnails/data-roaming.jpg\n",
    "toc: true\n",
    "categories:\n",
    "- [Data Science, Best Practice]\n",
    "tags:\n",
    "- linux\n",
    "- tutorial\n",
    "---\n"
   ]
  },
  {
   "cell_type": "raw",
   "metadata": {},
   "source": [
    "{% colorquote warning %}\n",
    "This post will assume familiarity with Linux and access to an installation of any Linux distribution.\n",
    "{% endcolorquote %}"
   ]
  },
  {
   "cell_type": "markdown",
   "metadata": {},
   "source": [
    "## Introduction"
   ]
  },
  {
   "cell_type": "markdown",
   "metadata": {},
   "source": [
    "If you are a student interested in data science, you might often find yourself working on library or university computers. Depending on the lenience of your university's IT policy, you may run into one of two issues:\n",
    "\n",
    "1. You are unable to install any new software (such as languages, IDEs, or packages)\n",
    "2. You can install software but this has to be repeated every time your log in\n",
    "\n",
    "The first scenario makes data science work completely infeasible whereas the second is simply (though still significantly) a headache and waste of time."
   ]
  },
  {
   "cell_type": "markdown",
   "metadata": {},
   "source": [
    "When trying to think of a solution to these problems, my mind first turned to the Ubuntu Live USB image. This is an installer image for Ubuntu that can be burnt to a CD or USB stick. Not only can this be used to install Ubuntu, but it also allows you to run Ubuntu on your hardware, directly from the USB stick (hence the \"Live\")."
   ]
  },
  {
   "cell_type": "markdown",
   "metadata": {},
   "source": [
    "This is a step in the right direction. One could use this live USB stick alongside a Bash script used to install all necessary packages and software. Still, although this no longer requires user attention, it may take a while to download and install all requirements."
   ]
  },
  {
   "cell_type": "markdown",
   "metadata": {},
   "source": [
    "Instead, it would be nice if we could perform this installation work upfront, creating a custom Ubuntu image with our requirements preinstalled. This is exactly the purpose of [Cubic](https://launchpad.net/cubic), a not-so-well-known tool for building custom Ubuntu images. It is supported by Ubuntu 18.04 and later and can be easily installed using the Aptitude package manager.\n",
    "\n",
    "```bash\n",
    "sudo apt-add-repository ppa:cubic-wizard/release\n",
    "sudo apt update\n",
    "sudo apt install --no-install-recommends cubic\n",
    "```"
   ]
  },
  {
   "cell_type": "markdown",
   "metadata": {},
   "source": [
    "Cubic is fairly straight forward to use and is incredibly flexible. Below I will detail how I used it to create a simple data science environment containing the following:\n",
    "- An installation of R, Python, Julia\n",
    "- An installation of RStudio, VSCode, Jupyter\n",
    "- An installation of Git and Solaar\n",
    "- Tools needed to update the image"
   ]
  },
  {
   "cell_type": "markdown",
   "metadata": {},
   "source": [
    "## Creating the Environment"
   ]
  },
  {
   "cell_type": "markdown",
   "metadata": {},
   "source": [
    "### Step 1: Prerequisites"
   ]
  },
  {
   "cell_type": "markdown",
   "metadata": {},
   "source": [
    "You will first need to download an Ubuntu image (as an ISO file). I went for Lubuntu due to its small footprint.\n",
    "\n",
    "Alongside this, you will need a Bash script used to install additional functionality to the operating system. The script I used can be found [here](https://github.com/THargreaves/data-roaming/blob/master/src/recipe.sh). You can download this and modify it to meet your needs, or start from scratch. Make sure the resulting file is called `recipe.sh`."
   ]
  },
  {
   "cell_type": "raw",
   "metadata": {},
   "source": [
    "{% colorquote warning %}\n",
    "A few points to note:\n",
    "\n",
    "- The script will be ran as root, so there is no need to use `sudo`.\n",
    "- You will likely need to enable the Ubuntu Universe/Multiverse using `add-apt-repository universe`/`add-apt-repository multiverse`.\n",
    "- Make sure to install Cubic and UNetbootin (bottom of the script) if you want to update the environment directly from the live boot.\n",
    "{% endcolorquote %}"
   ]
  },
  {
   "cell_type": "markdown",
   "metadata": {},
   "source": [
    "With these two files, you can start creating your custom image."
   ]
  },
  {
   "cell_type": "markdown",
   "metadata": {},
   "source": [
    "### Step 2: Creating the Image"
   ]
  },
  {
   "cell_type": "markdown",
   "metadata": {},
   "source": [
    "Start by opening Cubic and selecting a directory to store the project files (you'll need to remember this for later). Next, load the Ubuntu ISO as the original disk image. You may wish to change the details of the custom disk (these are aesthetic only)."
   ]
  },
  {
   "cell_type": "markdown",
   "metadata": {},
   "source": [
    "Once the disk has been analysed, a virtual environment will launch. From here `cd` into `/etc/skel`. This is the skeleton folder, used to populate new users' home folders. Create a new directory with `mkdir -p Desktop/src` and `cd` into this. "
   ]
  },
  {
   "cell_type": "markdown",
   "metadata": {},
   "source": [
    "Use the copy dialogue located in the top-left of the window to copy your ISO and `recipe.sh` into the working directory of the virtual environment. Add execute permissions to the recipe file with `chmod +x recipe.sh` and run it with `./recipe.sh`."
   ]
  },
  {
   "cell_type": "markdown",
   "metadata": {},
   "source": [
    "This will install all requirements specified in the recipe file. Once this is complete, press next to create the image, optionally selecting any additional packages to be installed from the Ubuntu defaults. Leave all other parameters as their defaults."
   ]
  },
  {
   "cell_type": "markdown",
   "metadata": {},
   "source": [
    "### Step 3: Burning the Image"
   ]
  },
  {
   "cell_type": "markdown",
   "metadata": {},
   "source": [
    "Once the disk image is created you can burn it to a USB stick."
   ]
  },
  {
   "cell_type": "markdown",
   "metadata": {},
   "source": [
    "First, you will need to format your USB stick appropriately. This is best done using GParted. You will need to create 3 partitions in either EXT4 or FAT-32 format called `OS`, `DEV` and `DATA` respectively. I would advise using FAT-32 so the data partition is readable by Windows."
   ]
  },
  {
   "cell_type": "markdown",
   "metadata": {},
   "source": [
    "Now you can use UNetBootin to burn the ISO file created by Cubic onto the `OS` partition of the USB stick."
   ]
  },
  {
   "cell_type": "markdown",
   "metadata": {},
   "source": [
    "### Step 4: Running the Environment"
   ]
  },
  {
   "cell_type": "markdown",
   "metadata": {},
   "source": [
    "You are now good to go. Plug the USB stick into university computer and go to the boot menu (usually `F2`, `F10` or `F12`). From here, you can select the `OS` partition to boot from."
   ]
  },
  {
   "cell_type": "markdown",
   "metadata": {},
   "source": [
    "## Updating the Environment"
   ]
  },
  {
   "cell_type": "markdown",
   "metadata": {},
   "source": [
    "You cannot make permanent changes to the environment whilst running it (although you can still install new software as you normally would on Ubuntu, just with no persistence between boots). This is why we have created a secondary `DEV` partition. Using the `OS` partition, you can modify the recipe file and use the included Cubic and UNetBootin installations to create an updated image to burn to the `DEV` partition. Once you are happy with the changes, use the `DEV` partition to burn the new image to the main `OS` partition."
   ]
  }
 ],
 "metadata": {
  "kernelspec": {
   "display_name": "Python 3",
   "language": "python",
   "name": "python3"
  },
  "language_info": {
   "codemirror_mode": {
    "name": "ipython",
    "version": 3
   },
   "file_extension": ".py",
   "mimetype": "text/x-python",
   "name": "python",
   "nbconvert_exporter": "python",
   "pygments_lexer": "ipython3",
   "version": "3.8.5"
  }
 },
 "nbformat": 4,
 "nbformat_minor": 4
}
