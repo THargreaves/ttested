{
 "cells": [
  {
   "cell_type": "raw",
   "metadata": {},
   "source": [
    "---\n",
    "title: \"Gloopy Violin Plots\"\n",
    "date: '2018-10-11'\n",
    "excerpt: \"The fourth dimension is often overlooked in data visualisation applications but, in doing so, are we potentially missing out on some more effective ways to present data? In this post, I argue that there are certain use cases where adding a temporal dimension to your visualation greatly improves the clarity of the result in expressing you message. Furthermore, I offer an example of such a visualisation, produced using the `gganimate` package.\"\n",
    "thumbnail: /gallery/thumbnails/gloopy-violin-plots.png\n",
    "toc: true\n",
    "categories:\n",
    "- [Data Science, Visualisation]\n",
    "tags:\n",
    "- r\n",
    "- animation\n",
    "- tidyverse\n",
    "- tutorial\n",
    "---"
   ]
  },
  {
   "cell_type": "raw",
   "metadata": {},
   "source": [
    "{% colorquote info %}\n",
    "The following packages will be required for this post:\n",
    "{% codeblock lang:R %}\n",
    "library(gganimate) # animation\n",
    "library(ggplot2) # visualisation\n",
    "library(dplyr) # manipulating data\n",
    "library(readr) # importing data\n",
    "library(tidyr) # tidying data\n",
    "{% endcodeblock %}\n",
    "{% endcolorquote %}"
   ]
  },
  {
   "cell_type": "raw",
   "metadata": {},
   "source": [
    "@noecho"
   ]
  },
  {
   "cell_type": "code",
   "execution_count": 3,
   "metadata": {},
   "outputs": [],
   "source": [
    "suppressPackageStartupMessages(library(gganimate)) # animation\n",
    "library(ggplot2) # visualisation\n",
    "suppressPackageStartupMessages(library(dplyr)) # manipulating data\n",
    "library(readr) # importing data\n",
    "library(tidyr) # tidying data"
   ]
  },
  {
   "cell_type": "markdown",
   "metadata": {},
   "source": [
    "## The Importance of the Fourth Dimension in Data Visualisation\n",
    "\n",
    "The fourth dimension is often overlooked in data visualisation applications. There are some very understandable reasons for this. To begin, such plots are of no use in static mediums such as scientific journals, research papers or printed blog posts. Furthermore, they often require more effort to produce than single frame plots, perhaps requiring additional tools and packages or, in the worst, the manual stitching together of individual plots.\n",
    "\n",
    "Despite its drawbacks, the use of time in the production of data visualisations can be very effective in expressing the meaning of a dataset in a natural and distinctly human way. Consider this example: if I were to give you pictures taken from a fixed camera at secondly intervals of a car driving down a road, you would most likely struggle to build a mental image of how far that car was travelling. This is strange because you have all the necessary data. All you are left to do is interpolate for the moments that you missed and then use your understanding of the world to have a guess at the speed of the car. This would be a surprisingly difficult task, yet if I gave you a video of the moving car, although you may not be completely accurate, you'd be able to make a much better judgement of the speed the car was travelling at."
   ]
  },
  {
   "cell_type": "markdown",
   "metadata": {},
   "source": [
    "## Enter: Gloopy Violin Plot\n",
    "\n",
    "I intend to use this principle to produce a natural visualisation of the progress of same-sex marriage laws in the United States using [this](http://www.pewforum.org/2015/06/26/same-sex-marriage-state-by-state/) dataset by the [Pew Research Centre](http://www.pewresearch.org/). A reduced view of the dataset looks like this,"
   ]
  },
  {
   "cell_type": "raw",
   "metadata": {},
   "source": [
    "@noecho"
   ]
  },
  {
   "cell_type": "code",
   "execution_count": 4,
   "metadata": {},
   "outputs": [
    {
     "data": {
      "text/html": [
       "<table>\n",
       "<caption>A tibble: 10 × 4</caption>\n",
       "<thead>\n",
       "\t<tr><th scope=col>State</th><th scope=col>1998</th><th scope=col>1999</th><th scope=col>2000</th></tr>\n",
       "\t<tr><th scope=col>&lt;chr&gt;</th><th scope=col>&lt;chr&gt;</th><th scope=col>&lt;chr&gt;</th><th scope=col>&lt;chr&gt;</th></tr>\n",
       "</thead>\n",
       "<tbody>\n",
       "\t<tr><td>Alabama    </td><td>Statutory Ban     </td><td>Statutory Ban     </td><td>Statutory Ban     </td></tr>\n",
       "\t<tr><td>Alaska     </td><td>Constitutional Ban</td><td>Constitutional Ban</td><td>Constitutional Ban</td></tr>\n",
       "\t<tr><td>Arizona    </td><td>Statutory Ban     </td><td>Statutory Ban     </td><td>Statutory Ban     </td></tr>\n",
       "\t<tr><td>Arkansas   </td><td>Statutory Ban     </td><td>Statutory Ban     </td><td>Statutory Ban     </td></tr>\n",
       "\t<tr><td>California </td><td>Statutory Ban     </td><td>Statutory Ban     </td><td>Statutory Ban     </td></tr>\n",
       "\t<tr><td>Colorado   </td><td>No Law            </td><td>No Law            </td><td>Statutory Ban     </td></tr>\n",
       "\t<tr><td>Connecticut</td><td>Statutory Ban     </td><td>Statutory Ban     </td><td>Statutory Ban     </td></tr>\n",
       "\t<tr><td>Delaware   </td><td>Statutory Ban     </td><td>Statutory Ban     </td><td>Statutory Ban     </td></tr>\n",
       "\t<tr><td>Florida    </td><td>Statutory Ban     </td><td>Statutory Ban     </td><td>Statutory Ban     </td></tr>\n",
       "\t<tr><td>Georgia    </td><td>Statutory Ban     </td><td>Statutory Ban     </td><td>Statutory Ban     </td></tr>\n",
       "</tbody>\n",
       "</table>\n"
      ],
      "text/latex": [
       "A tibble: 10 × 4\n",
       "\\begin{tabular}{r|llll}\n",
       " State & 1998 & 1999 & 2000\\\\\n",
       " <chr> & <chr> & <chr> & <chr>\\\\\n",
       "\\hline\n",
       "\t Alabama     & Statutory Ban      & Statutory Ban      & Statutory Ban     \\\\\n",
       "\t Alaska      & Constitutional Ban & Constitutional Ban & Constitutional Ban\\\\\n",
       "\t Arizona     & Statutory Ban      & Statutory Ban      & Statutory Ban     \\\\\n",
       "\t Arkansas    & Statutory Ban      & Statutory Ban      & Statutory Ban     \\\\\n",
       "\t California  & Statutory Ban      & Statutory Ban      & Statutory Ban     \\\\\n",
       "\t Colorado    & No Law             & No Law             & Statutory Ban     \\\\\n",
       "\t Connecticut & Statutory Ban      & Statutory Ban      & Statutory Ban     \\\\\n",
       "\t Delaware    & Statutory Ban      & Statutory Ban      & Statutory Ban     \\\\\n",
       "\t Florida     & Statutory Ban      & Statutory Ban      & Statutory Ban     \\\\\n",
       "\t Georgia     & Statutory Ban      & Statutory Ban      & Statutory Ban     \\\\\n",
       "\\end{tabular}\n"
      ],
      "text/markdown": [
       "\n",
       "A tibble: 10 × 4\n",
       "\n",
       "| State &lt;chr&gt; | 1998 &lt;chr&gt; | 1999 &lt;chr&gt; | 2000 &lt;chr&gt; |\n",
       "|---|---|---|---|\n",
       "| Alabama     | Statutory Ban      | Statutory Ban      | Statutory Ban      |\n",
       "| Alaska      | Constitutional Ban | Constitutional Ban | Constitutional Ban |\n",
       "| Arizona     | Statutory Ban      | Statutory Ban      | Statutory Ban      |\n",
       "| Arkansas    | Statutory Ban      | Statutory Ban      | Statutory Ban      |\n",
       "| California  | Statutory Ban      | Statutory Ban      | Statutory Ban      |\n",
       "| Colorado    | No Law             | No Law             | Statutory Ban      |\n",
       "| Connecticut | Statutory Ban      | Statutory Ban      | Statutory Ban      |\n",
       "| Delaware    | Statutory Ban      | Statutory Ban      | Statutory Ban      |\n",
       "| Florida     | Statutory Ban      | Statutory Ban      | Statutory Ban      |\n",
       "| Georgia     | Statutory Ban      | Statutory Ban      | Statutory Ban      |\n",
       "\n"
      ],
      "text/plain": [
       "   State       1998               1999               2000              \n",
       "1  Alabama     Statutory Ban      Statutory Ban      Statutory Ban     \n",
       "2  Alaska      Constitutional Ban Constitutional Ban Constitutional Ban\n",
       "3  Arizona     Statutory Ban      Statutory Ban      Statutory Ban     \n",
       "4  Arkansas    Statutory Ban      Statutory Ban      Statutory Ban     \n",
       "5  California  Statutory Ban      Statutory Ban      Statutory Ban     \n",
       "6  Colorado    No Law             No Law             Statutory Ban     \n",
       "7  Connecticut Statutory Ban      Statutory Ban      Statutory Ban     \n",
       "8  Delaware    Statutory Ban      Statutory Ban      Statutory Ban     \n",
       "9  Florida     Statutory Ban      Statutory Ban      Statutory Ban     \n",
       "10 Georgia     Statutory Ban      Statutory Ban      Statutory Ban     "
      ]
     },
     "metadata": {},
     "output_type": "display_data"
    }
   ],
   "source": [
    "read_csv(\"https://raw.githubusercontent.com/zonination/samesmarriage/master/ssm.csv\",\n",
    "        col_types = cols()) %>%\n",
    "  select(c(1,6:8)) %>%\n",
    "  head(n = 10)"
   ]
  },
  {
   "cell_type": "markdown",
   "metadata": {},
   "source": [
    "The typical way of representing this data may be a collection of bar plots faceted by year or, if you allow yourself to treat the nominal variable representing the type of law as ordinal, a [ridgeline plot](http://blog.revolutionanalytics.com/2017/07/joyplots.html) (previously known as a joy-plot) would be a good choice. The problem with these two methods though is that it is very hard to conceptualise the speed of change when we are only given single snapshots in time rather than the whole picture just like with the car example above.\n",
    "\n",
    "Instead I wanted to produce an animated violin plot to represent this data in a way that would be easier to interpret the message of. The core of this visualisation is produced as follows."
   ]
  },
  {
   "cell_type": "raw",
   "metadata": {},
   "source": [
    "{% codeblock lang:R %}\n",
    "# load data from a csv on GitHub\n",
    "dl <- \"https://raw.githubusercontent.com/zonination/samesmarriage/master/ssm.csv\"\n",
    "df <- read_csv(dl)\n",
    "# store the four types of law from most opposed to least\n",
    "laws <- c(\"Constitutional Ban\", \"Statutory Ban\", \"No Law\", \"Legal\")\n",
    "\n",
    "df %>%\n",
    "  # tidy the data frame so it is in a form ggplot can work with\n",
    "  gather(key = \"year\", value = \"law\", '1995':'2015') %>%\n",
    "  # factor the law types using the order stored in the laws variable\n",
    "  mutate(law = factor(law, levels = laws, ordered = TRUE)) %>%\n",
    "  # encode the laws as numerical values so they can be used with a violin plot\n",
    "  mutate(law.encode = as.numeric(law)) %>%\n",
    "  # add dummy years to add pause before looping †\n",
    "  rbind(filter(., year == \"2015\") %>%\n",
    "          mutate(year = \"2015 \")) %>%\n",
    "  rbind(filter(., year == \"2015\") %>%\n",
    "          mutate(year = \"2015  \")) %>%\n",
    "  # generate static plot\n",
    "  ggplot(aes(x = 0, y = law.encode)) +\n",
    "  geom_violin(bw = .3, trim = FALSE, scale = \"area\") +\n",
    "  scale_x_discrete(\"Proportion of States\") +\n",
    "  scale_y_continuous(\"\", breaks = 1:4, labels = laws) +\n",
    "  coord_flip(xlim = c(-.5,.5), ylim = c(0,5)) +\n",
    "  labs(title = \"Same-Sex Marriage Laws in the USA\", \n",
    "       # remove \"dummy\" from dummy year names\n",
    "       subtitle = paste0(\"Year: \", \"{closest_state}\"),\n",
    "       caption = \"Source: Pew Research Centre\") +\n",
    "  theme_minimal() +\n",
    "  theme(panel.grid.minor.x = element_blank()) +\n",
    "  # animate using gganimate\n",
    "  transition_states(year, transition_length = 1, state_length = 0) +\n",
    "  ease_aes('sine-in-out') -> p\n",
    "\n",
    "# animate with custom parameters\n",
    "animate(p, nframes = 300, fps = 15, width = 720, height = 540)\n",
    "{% endcodeblock %}"
   ]
  },
  {
   "cell_type": "raw",
   "metadata": {},
   "source": [
    "![](/images/gloop-violin-plots/gloopy-violin-plot.gif)"
   ]
  },
  {
   "cell_type": "raw",
   "metadata": {},
   "source": [
    "{% colorquote info %}\n",
    "† Sadly, at of the time of writing this post, `gganimate` does not have a simple way to add a pause between loops. This is the best solution I could find to overcome this limitation. UPDATE: `gganimate` now has the ability to add pauses at both the beginning and end of the loop. See the [documentation](https://rdrr.io/github/dgrtwo/gganimate/man/animate.html) for the `animate()` function to learn more.\n",
    "{% endcolorquote %}"
   ]
  },
  {
   "cell_type": "markdown",
   "metadata": {},
   "source": [
    "This graphic shows us how much fluctuation there was on same-sex marriage law in the USA throughout the early 2000's and almost makes clear the sudden impact on national legislation when the Supreme Court legalized same-sex marriage on June 26, 2015."
   ]
  }
 ],
 "metadata": {
  "kernelspec": {
   "display_name": "R",
   "language": "R",
   "name": "ir"
  },
  "language_info": {
   "codemirror_mode": "r",
   "file_extension": ".r",
   "mimetype": "text/x-r-source",
   "name": "R",
   "pygments_lexer": "r",
   "version": "3.6.0"
  }
 },
 "nbformat": 4,
 "nbformat_minor": 2
}
