{
 "cells": [
  {
   "cell_type": "raw",
   "id": "6c931e84",
   "metadata": {},
   "source": [
    "---\n",
    "title: \"Principal Component Regression as Pseudo-Loadings\"\n",
    "date: '2022-08-14'\n",
    "excerpt: \"Principal component regression is a powerful technique from high-dimensional statistics. In this post I offer an alternative interpretation of the procedure as a way of generating PCA loadings for new covariates.\"\n",
    "thumbnail: /gallery/thumbnails/pseudo-loadings.jpg\n",
    "toc: true\n",
    "categories:\n",
    "- [Statistics]\n",
    "tags:\n",
    "- lesson\n",
    "- no-coding\n",
    "---\n"
   ]
  },
  {
   "cell_type": "markdown",
   "id": "6b3389b7",
   "metadata": {},
   "source": [
    "Principal component regression (PCR) is a standard statistical technique for performing regression in high dimensions. It involves first projecting your data to a lower-dimensional space using principal component analysis (PCA) and then regressing a covariate on the projected data using standard methods (most commonly least-squares). This procedure is beneficial when the majority of the signal in the data is contained in a linear subspace of low rank, and so by only regressing on this space we avoid issues of colinearity and increased prediction error from regressing on noise."
   ]
  },
  {
   "cell_type": "markdown",
   "id": "aa4cf5c9",
   "metadata": {},
   "source": [
    "Whilst working with PCR, I came across an interesting property of the procedure which provides a new interpretation of its output. I was unable to find any discussion of this result online (though maybe I just don't know the correct terminology to search for) so decided to briefly cover it here."
   ]
  },
  {
   "cell_type": "markdown",
   "id": "54778d64",
   "metadata": {},
   "source": [
    "## Review of PCA and PCR"
   ]
  },
  {
   "cell_type": "markdown",
   "id": "65578a45",
   "metadata": {},
   "source": [
    "I will start by quickly recapping the key ideas behind PCA and PCR. For a more detailed account of these techniques, I strongly recommend Steve Brunton's [video](https://www.youtube.com/watch?v=fkf4IBRSeEc) on the topic, which accompanies his textbook [Data-Driven Science and Engineering](http://databookuw.com)."
   ]
  },
  {
   "cell_type": "markdown",
   "id": "b37f9ec8",
   "metadata": {},
   "source": [
    "Given an $n \\times p$ data matrix $X$—which we assume has centred columns—it is most convenient for us to view PCA as an eigen-decomposition of the sample covariance matrix \n",
    "\n",
    "$$\\Sigma := \\frac{1}{n-1}X^TX.$$\n",
    "\n",
    "Specifically, we write\n",
    "\n",
    "$$\\Sigma = P D P^T$$\n",
    "\n",
    "where $P$ is orthogonal and $D$ is diagonal. Further, we sort the elements of $D$ and corresponding columns of $P$ so that $d_{1, 1} \\geq \\ldots \\geq d_{p, p}$. Note also, that $\\Sigma$ is positive semi-definite by definition, so $d_{p, p} \\geq 0$."
   ]
  },
  {
   "cell_type": "markdown",
   "id": "5df84b4b",
   "metadata": {},
   "source": [
    "We can view $P$ as a change of basis matrix with new axes given by the columns of $P$, which we call principal directions. Each of these principal directions can be viewed as a unit vector in our original data space and we call the elements of this vector the loadings of principal direction. This can be thought of as the contribution of each original predictor to the new axis. It is important to note that these new axes are orthogonal (since $P$ is) and they are ranked by how much variation in the data they explain (due to our ordering of the $d_{i,i}$'s)."
   ]
  },
  {
   "cell_type": "markdown",
   "id": "60b98204",
   "metadata": {},
   "source": [
    "Finally, the $n \\times p$ matrix $XP$ gives the coordinates of our data in this new space, which we call the principal components. In practice, we only want to retain the first $k$ dimensions of this new space, for [some choice](https://www.mikulskibartosz.name/pca-how-to-choose-the-number-of-components/) of $k$. This makes sense, since we have captured most of the variation of the data in the first principle directions, corresponding to larger values of $d_{i, i}$. We write $P^{(k)}$ for the truncation of $P$ to the $n \\times k$ matrix containing its first $k$ columns."
   ]
  },
  {
   "cell_type": "markdown",
   "id": "89001dd1",
   "metadata": {},
   "source": [
    "Principal component regression is then simply the process of regressing another covariate $Y$ on the design matrix $Z = XP^{(k)}$."
   ]
  },
  {
   "cell_type": "markdown",
   "id": "7362f0e1",
   "metadata": {},
   "source": [
    "## Pseudo-Loadings"
   ]
  },
  {
   "cell_type": "markdown",
   "id": "5d9a20fc",
   "metadata": {},
   "source": [
    "So far, this is pretty textbook stuff. My insight came from setting $Y = X_k$ (the $k$th column of $X$) and $k = p$, so that $P^{(k)} = P$. In doing so, we find that the regression procedure retrieves our original principle direction as the least-squares estimator,\n",
    "\n",
    "$$\n",
    "\\begin{align} \n",
    "\\hat{\\beta} &= (Z^TZ)^{-1}Z^TY \\\\\n",
    "&= (P^TX^TXP)^{-1}P^TX^TX_k \\\\\n",
    "&= (P^TP\\Sigma P^TP)^{-1}P^TP\\Sigma P_k \\\\\n",
    "&= P_k\n",
    "\\end{align}\n",
    "$$\n",
    "\n",
    "In other words, given our principal components alone, we can retrieve the loadings for the $k$th principal direction by regression $kth$ covariate on our principle component matrix."
   ]
  },
  {
   "cell_type": "markdown",
   "id": "92e5e750",
   "metadata": {},
   "source": [
    "This leads us to consider the behaviour of principal component regression when we set $Y=X_0$—a new covariate. We can define \n",
    "\n",
    "$$P_0 := \\hat\\beta = (P^TX^TXP)^{-1}P^TX^TX_0 = \\frac{1}{(n-1)}D^{-1}P^TX^TX_0$$\n",
    "\n",
    "to be the vector of \"pseudo-loadings\" for $X_0$."
   ]
  },
  {
   "cell_type": "markdown",
   "id": "363c3c21",
   "metadata": {},
   "source": [
    "Importantly, this is not the same as the true loading of $X_0$ from performing PCA on the augmented matrix \n",
    "\n",
    "$$\n",
    "\\left(\\begin{array}{c|c}\n",
    "  X\n",
    "  & \n",
    "  X_0\n",
    "\\end{array}\\right)\n",
    ".$$\n",
    "\n",
    "Instead, we view it as the predicted loadings of $X_0$ from a PCA model trained only on $X$."
   ]
  },
  {
   "cell_type": "markdown",
   "id": "bd2c84a1",
   "metadata": {},
   "source": [
    "## Applications"
   ]
  },
  {
   "cell_type": "markdown",
   "id": "8931d6af",
   "metadata": {},
   "source": [
    "There are two use cases that I can see this technique being of use for."
   ]
  },
  {
   "cell_type": "markdown",
   "id": "ca10fc51",
   "metadata": {},
   "source": [
    "The first is as a form of robust PCA when one column has been contaminated with noise. Performing PCA on the entire dataset will corrupt the loadings for the clean covariates. Instead, PCA can be performed on only these columns, and then the above method can be used to obtain pseudo-loadings for the noisy data. From experimenting with this (though I have not attempted a formal proof), I have reason to believe that this also acts as a form of regularisation on the pseudo-loadings."
   ]
  },
  {
   "cell_type": "markdown",
   "id": "104a73bb",
   "metadata": {},
   "source": [
    "A second application applies to the case where $X_0$ contains missing values but $X$ is complete. The standard approaches to this scenario are imputation or deletion of rows with missing values. The first method is flawed because the choice of imputation method will impact the loadings obtained for the complete columns, and the second is clearly a poor choice as it wastes data. Instead, we could perform PCA on the complete columns and then compute pseudo-loadings for $X_0$ by using the subset of rows of $X$ corresponding to the non-missing values of $X_0$. Since $P$ was computed using the entirety of $X$, we take advantage of this data without letting the missingness of values in $X_0$ corrupt our loadings for the complete $X$."
   ]
  }
 ],
 "metadata": {
  "kernelspec": {
   "display_name": "Python 3 (ipykernel)",
   "language": "python",
   "name": "python3"
  },
  "language_info": {
   "codemirror_mode": {
    "name": "ipython",
    "version": 3
   },
   "file_extension": ".py",
   "mimetype": "text/x-python",
   "name": "python",
   "nbconvert_exporter": "python",
   "pygments_lexer": "ipython3",
   "version": "3.10.2"
  },
  "vscode": {
   "interpreter": {
    "hash": "c6e4e9f98eb68ad3b7c296f83d20e6de614cb42e90992a65aa266555a3137d0d"
   }
  }
 },
 "nbformat": 4,
 "nbformat_minor": 5
}
